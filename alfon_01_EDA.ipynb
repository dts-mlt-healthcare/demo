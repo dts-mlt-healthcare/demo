{
  "cells": [
    {
      "cell_type": "code",
      "execution_count": 1,
      "metadata": {
        "id": "lWr0aqWftXdo"
      },
      "outputs": [],
      "source": [
        "import pandas as pd"
      ]
    },
    {
      "cell_type": "code",
      "execution_count": 2,
      "metadata": {
        "id": "t8mp_vLOt73W"
      },
      "outputs": [],
      "source": [
        "dataset = pd.read_csv('data_healthcare/dataset.csv')\n",
        "desc_sym = pd.read_csv('data_healthcare/symptom_Description.csv')\n",
        "prec_sym = pd.read_csv('data_healthcare/symptom_precaution.csv')\n",
        "sym_wight = pd.read_csv('data_healthcare/Symptom-severity.csv')"
      ]
    },
    {
      "cell_type": "code",
      "execution_count": 3,
      "metadata": {
        "id": "BLwmmcYBzgFS"
      },
      "outputs": [],
      "source": [
        "#mengilangkan white space\n",
        "dataset = dataset.apply(lambda x: x.str.strip())\n",
        "dataset = dataset.replace('_ ','_', regex=True).replace(' _','_', regex=True).replace(' ','_', regex=True) #menghilangkan space pada symptom\n",
        "desc_sym = desc_sym.apply(lambda x: x.str.strip())\n",
        "prec_sym = prec_sym.apply(lambda x: x.str.strip())"
      ]
    },
    {
      "cell_type": "markdown",
      "metadata": {
        "id": "2elkwAc6mlv7"
      },
      "source": [
        "## EDA"
      ]
    },
    {
      "cell_type": "code",
      "execution_count": 4,
      "metadata": {
        "colab": {
          "base_uri": "https://localhost:8080/",
          "height": 270
        },
        "id": "Hhye_6MBuZ1I",
        "outputId": "62cfc6f9-dfcc-4529-8c03-3a6e20eab3e6"
      },
      "outputs": [
        {
          "data": {
            "text/html": [
              "<div>\n",
              "<style scoped>\n",
              "    .dataframe tbody tr th:only-of-type {\n",
              "        vertical-align: middle;\n",
              "    }\n",
              "\n",
              "    .dataframe tbody tr th {\n",
              "        vertical-align: top;\n",
              "    }\n",
              "\n",
              "    .dataframe thead th {\n",
              "        text-align: right;\n",
              "    }\n",
              "</style>\n",
              "<table border=\"1\" class=\"dataframe\">\n",
              "  <thead>\n",
              "    <tr style=\"text-align: right;\">\n",
              "      <th></th>\n",
              "      <th>Disease</th>\n",
              "      <th>Symptom_1</th>\n",
              "      <th>Symptom_2</th>\n",
              "      <th>Symptom_3</th>\n",
              "      <th>Symptom_4</th>\n",
              "      <th>Symptom_5</th>\n",
              "      <th>Symptom_6</th>\n",
              "      <th>Symptom_7</th>\n",
              "      <th>Symptom_8</th>\n",
              "      <th>Symptom_9</th>\n",
              "      <th>Symptom_10</th>\n",
              "      <th>Symptom_11</th>\n",
              "      <th>Symptom_12</th>\n",
              "      <th>Symptom_13</th>\n",
              "      <th>Symptom_14</th>\n",
              "      <th>Symptom_15</th>\n",
              "      <th>Symptom_16</th>\n",
              "      <th>Symptom_17</th>\n",
              "    </tr>\n",
              "  </thead>\n",
              "  <tbody>\n",
              "    <tr>\n",
              "      <th>0</th>\n",
              "      <td>Fungal_infection</td>\n",
              "      <td>itching</td>\n",
              "      <td>skin_rash</td>\n",
              "      <td>nodal_skin_eruptions</td>\n",
              "      <td>dischromic_patches</td>\n",
              "      <td>NaN</td>\n",
              "      <td>NaN</td>\n",
              "      <td>NaN</td>\n",
              "      <td>NaN</td>\n",
              "      <td>NaN</td>\n",
              "      <td>NaN</td>\n",
              "      <td>NaN</td>\n",
              "      <td>NaN</td>\n",
              "      <td>NaN</td>\n",
              "      <td>NaN</td>\n",
              "      <td>NaN</td>\n",
              "      <td>NaN</td>\n",
              "      <td>NaN</td>\n",
              "    </tr>\n",
              "    <tr>\n",
              "      <th>1</th>\n",
              "      <td>Fungal_infection</td>\n",
              "      <td>skin_rash</td>\n",
              "      <td>nodal_skin_eruptions</td>\n",
              "      <td>dischromic_patches</td>\n",
              "      <td>NaN</td>\n",
              "      <td>NaN</td>\n",
              "      <td>NaN</td>\n",
              "      <td>NaN</td>\n",
              "      <td>NaN</td>\n",
              "      <td>NaN</td>\n",
              "      <td>NaN</td>\n",
              "      <td>NaN</td>\n",
              "      <td>NaN</td>\n",
              "      <td>NaN</td>\n",
              "      <td>NaN</td>\n",
              "      <td>NaN</td>\n",
              "      <td>NaN</td>\n",
              "      <td>NaN</td>\n",
              "    </tr>\n",
              "    <tr>\n",
              "      <th>2</th>\n",
              "      <td>Fungal_infection</td>\n",
              "      <td>itching</td>\n",
              "      <td>nodal_skin_eruptions</td>\n",
              "      <td>dischromic_patches</td>\n",
              "      <td>NaN</td>\n",
              "      <td>NaN</td>\n",
              "      <td>NaN</td>\n",
              "      <td>NaN</td>\n",
              "      <td>NaN</td>\n",
              "      <td>NaN</td>\n",
              "      <td>NaN</td>\n",
              "      <td>NaN</td>\n",
              "      <td>NaN</td>\n",
              "      <td>NaN</td>\n",
              "      <td>NaN</td>\n",
              "      <td>NaN</td>\n",
              "      <td>NaN</td>\n",
              "      <td>NaN</td>\n",
              "    </tr>\n",
              "    <tr>\n",
              "      <th>3</th>\n",
              "      <td>Fungal_infection</td>\n",
              "      <td>itching</td>\n",
              "      <td>skin_rash</td>\n",
              "      <td>dischromic_patches</td>\n",
              "      <td>NaN</td>\n",
              "      <td>NaN</td>\n",
              "      <td>NaN</td>\n",
              "      <td>NaN</td>\n",
              "      <td>NaN</td>\n",
              "      <td>NaN</td>\n",
              "      <td>NaN</td>\n",
              "      <td>NaN</td>\n",
              "      <td>NaN</td>\n",
              "      <td>NaN</td>\n",
              "      <td>NaN</td>\n",
              "      <td>NaN</td>\n",
              "      <td>NaN</td>\n",
              "      <td>NaN</td>\n",
              "    </tr>\n",
              "    <tr>\n",
              "      <th>4</th>\n",
              "      <td>Fungal_infection</td>\n",
              "      <td>itching</td>\n",
              "      <td>skin_rash</td>\n",
              "      <td>nodal_skin_eruptions</td>\n",
              "      <td>NaN</td>\n",
              "      <td>NaN</td>\n",
              "      <td>NaN</td>\n",
              "      <td>NaN</td>\n",
              "      <td>NaN</td>\n",
              "      <td>NaN</td>\n",
              "      <td>NaN</td>\n",
              "      <td>NaN</td>\n",
              "      <td>NaN</td>\n",
              "      <td>NaN</td>\n",
              "      <td>NaN</td>\n",
              "      <td>NaN</td>\n",
              "      <td>NaN</td>\n",
              "      <td>NaN</td>\n",
              "    </tr>\n",
              "  </tbody>\n",
              "</table>\n",
              "</div>"
            ],
            "text/plain": [
              "            Disease  Symptom_1             Symptom_2             Symptom_3  \\\n",
              "0  Fungal_infection    itching             skin_rash  nodal_skin_eruptions   \n",
              "1  Fungal_infection  skin_rash  nodal_skin_eruptions    dischromic_patches   \n",
              "2  Fungal_infection    itching  nodal_skin_eruptions    dischromic_patches   \n",
              "3  Fungal_infection    itching             skin_rash    dischromic_patches   \n",
              "4  Fungal_infection    itching             skin_rash  nodal_skin_eruptions   \n",
              "\n",
              "            Symptom_4 Symptom_5 Symptom_6 Symptom_7 Symptom_8 Symptom_9  \\\n",
              "0  dischromic_patches       NaN       NaN       NaN       NaN       NaN   \n",
              "1                 NaN       NaN       NaN       NaN       NaN       NaN   \n",
              "2                 NaN       NaN       NaN       NaN       NaN       NaN   \n",
              "3                 NaN       NaN       NaN       NaN       NaN       NaN   \n",
              "4                 NaN       NaN       NaN       NaN       NaN       NaN   \n",
              "\n",
              "  Symptom_10 Symptom_11 Symptom_12 Symptom_13 Symptom_14 Symptom_15  \\\n",
              "0        NaN        NaN        NaN        NaN        NaN        NaN   \n",
              "1        NaN        NaN        NaN        NaN        NaN        NaN   \n",
              "2        NaN        NaN        NaN        NaN        NaN        NaN   \n",
              "3        NaN        NaN        NaN        NaN        NaN        NaN   \n",
              "4        NaN        NaN        NaN        NaN        NaN        NaN   \n",
              "\n",
              "  Symptom_16 Symptom_17  \n",
              "0        NaN        NaN  \n",
              "1        NaN        NaN  \n",
              "2        NaN        NaN  \n",
              "3        NaN        NaN  \n",
              "4        NaN        NaN  "
            ]
          },
          "execution_count": 4,
          "metadata": {},
          "output_type": "execute_result"
        }
      ],
      "source": [
        "dataset.head()"
      ]
    },
    {
      "cell_type": "code",
      "execution_count": 5,
      "metadata": {
        "colab": {
          "base_uri": "https://localhost:8080/",
          "height": 258
        },
        "id": "TKTo8vAUiz3_",
        "outputId": "c382f480-621e-4f14-f349-ceda14ec5494"
      },
      "outputs": [
        {
          "name": "stdout",
          "output_type": "stream",
          "text": [
            "Disease        0\n",
            "Description    0\n",
            "dtype: int64\n"
          ]
        },
        {
          "data": {
            "text/html": [
              "<div>\n",
              "<style scoped>\n",
              "    .dataframe tbody tr th:only-of-type {\n",
              "        vertical-align: middle;\n",
              "    }\n",
              "\n",
              "    .dataframe tbody tr th {\n",
              "        vertical-align: top;\n",
              "    }\n",
              "\n",
              "    .dataframe thead th {\n",
              "        text-align: right;\n",
              "    }\n",
              "</style>\n",
              "<table border=\"1\" class=\"dataframe\">\n",
              "  <thead>\n",
              "    <tr style=\"text-align: right;\">\n",
              "      <th></th>\n",
              "      <th>Disease</th>\n",
              "      <th>Description</th>\n",
              "    </tr>\n",
              "  </thead>\n",
              "  <tbody>\n",
              "    <tr>\n",
              "      <th>0</th>\n",
              "      <td>Drug Reaction</td>\n",
              "      <td>An adverse drug reaction (ADR) is an injury ca...</td>\n",
              "    </tr>\n",
              "    <tr>\n",
              "      <th>1</th>\n",
              "      <td>Malaria</td>\n",
              "      <td>An infectious disease caused by protozoan para...</td>\n",
              "    </tr>\n",
              "    <tr>\n",
              "      <th>2</th>\n",
              "      <td>Allergy</td>\n",
              "      <td>An allergy is an immune system response to a f...</td>\n",
              "    </tr>\n",
              "    <tr>\n",
              "      <th>3</th>\n",
              "      <td>Hypothyroidism</td>\n",
              "      <td>Hypothyroidism, also called underactive thyroi...</td>\n",
              "    </tr>\n",
              "    <tr>\n",
              "      <th>4</th>\n",
              "      <td>Psoriasis</td>\n",
              "      <td>Psoriasis is a common skin disorder that forms...</td>\n",
              "    </tr>\n",
              "  </tbody>\n",
              "</table>\n",
              "</div>"
            ],
            "text/plain": [
              "          Disease                                        Description\n",
              "0   Drug Reaction  An adverse drug reaction (ADR) is an injury ca...\n",
              "1         Malaria  An infectious disease caused by protozoan para...\n",
              "2         Allergy  An allergy is an immune system response to a f...\n",
              "3  Hypothyroidism  Hypothyroidism, also called underactive thyroi...\n",
              "4       Psoriasis  Psoriasis is a common skin disorder that forms..."
            ]
          },
          "execution_count": 5,
          "metadata": {},
          "output_type": "execute_result"
        }
      ],
      "source": [
        "print(desc_sym.isna().sum())\n",
        "desc_sym.head()"
      ]
    },
    {
      "cell_type": "code",
      "execution_count": 6,
      "metadata": {
        "colab": {
          "base_uri": "https://localhost:8080/",
          "height": 406
        },
        "id": "rRiK0_xRjVSK",
        "outputId": "00a4ba4f-2352-421b-936e-1ca3a245e887"
      },
      "outputs": [
        {
          "name": "stdout",
          "output_type": "stream",
          "text": [
            "Disease         0\n",
            "Precaution_1    0\n",
            "Precaution_2    0\n",
            "Precaution_3    1\n",
            "Precaution_4    1\n",
            "dtype: int64\n"
          ]
        },
        {
          "data": {
            "text/html": [
              "<div>\n",
              "<style scoped>\n",
              "    .dataframe tbody tr th:only-of-type {\n",
              "        vertical-align: middle;\n",
              "    }\n",
              "\n",
              "    .dataframe tbody tr th {\n",
              "        vertical-align: top;\n",
              "    }\n",
              "\n",
              "    .dataframe thead th {\n",
              "        text-align: right;\n",
              "    }\n",
              "</style>\n",
              "<table border=\"1\" class=\"dataframe\">\n",
              "  <thead>\n",
              "    <tr style=\"text-align: right;\">\n",
              "      <th></th>\n",
              "      <th>Disease</th>\n",
              "      <th>Precaution_1</th>\n",
              "      <th>Precaution_2</th>\n",
              "      <th>Precaution_3</th>\n",
              "      <th>Precaution_4</th>\n",
              "    </tr>\n",
              "  </thead>\n",
              "  <tbody>\n",
              "    <tr>\n",
              "      <th>0</th>\n",
              "      <td>Drug Reaction</td>\n",
              "      <td>stop irritation</td>\n",
              "      <td>consult nearest hospital</td>\n",
              "      <td>stop taking drug</td>\n",
              "      <td>follow up</td>\n",
              "    </tr>\n",
              "    <tr>\n",
              "      <th>1</th>\n",
              "      <td>Malaria</td>\n",
              "      <td>Consult nearest hospital</td>\n",
              "      <td>avoid oily food</td>\n",
              "      <td>avoid non veg food</td>\n",
              "      <td>keep mosquitos out</td>\n",
              "    </tr>\n",
              "    <tr>\n",
              "      <th>2</th>\n",
              "      <td>Allergy</td>\n",
              "      <td>apply calamine</td>\n",
              "      <td>cover area with bandage</td>\n",
              "      <td>NaN</td>\n",
              "      <td>use ice to compress itching</td>\n",
              "    </tr>\n",
              "    <tr>\n",
              "      <th>3</th>\n",
              "      <td>Hypothyroidism</td>\n",
              "      <td>reduce stress</td>\n",
              "      <td>exercise</td>\n",
              "      <td>eat healthy</td>\n",
              "      <td>get proper sleep</td>\n",
              "    </tr>\n",
              "    <tr>\n",
              "      <th>4</th>\n",
              "      <td>Psoriasis</td>\n",
              "      <td>wash hands with warm soapy water</td>\n",
              "      <td>stop bleeding using pressure</td>\n",
              "      <td>consult doctor</td>\n",
              "      <td>salt baths</td>\n",
              "    </tr>\n",
              "  </tbody>\n",
              "</table>\n",
              "</div>"
            ],
            "text/plain": [
              "          Disease                      Precaution_1  \\\n",
              "0   Drug Reaction                   stop irritation   \n",
              "1         Malaria          Consult nearest hospital   \n",
              "2         Allergy                    apply calamine   \n",
              "3  Hypothyroidism                     reduce stress   \n",
              "4       Psoriasis  wash hands with warm soapy water   \n",
              "\n",
              "                   Precaution_2        Precaution_3  \\\n",
              "0      consult nearest hospital    stop taking drug   \n",
              "1               avoid oily food  avoid non veg food   \n",
              "2       cover area with bandage                 NaN   \n",
              "3                      exercise         eat healthy   \n",
              "4  stop bleeding using pressure      consult doctor   \n",
              "\n",
              "                  Precaution_4  \n",
              "0                    follow up  \n",
              "1           keep mosquitos out  \n",
              "2  use ice to compress itching  \n",
              "3             get proper sleep  \n",
              "4                   salt baths  "
            ]
          },
          "execution_count": 6,
          "metadata": {},
          "output_type": "execute_result"
        }
      ],
      "source": [
        "print(prec_sym.isna().sum())\n",
        "prec_sym.head()"
      ]
    },
    {
      "cell_type": "markdown",
      "metadata": {
        "id": "B4NdflV1CgBg"
      },
      "source": [
        "Jumlah Penyakit"
      ]
    },
    {
      "cell_type": "code",
      "execution_count": 7,
      "metadata": {
        "colab": {
          "base_uri": "https://localhost:8080/"
        },
        "id": "tKs5xuDcux3F",
        "outputId": "e10db069-1bf0-40a5-bfda-85bc3e6c622f"
      },
      "outputs": [
        {
          "data": {
            "text/plain": [
              "(41, 41, 41)"
            ]
          },
          "execution_count": 7,
          "metadata": {},
          "output_type": "execute_result"
        }
      ],
      "source": [
        "len(dataset.Disease.unique()), len(desc_sym.Disease.unique()), len(prec_sym.Disease.unique())"
      ]
    },
    {
      "cell_type": "markdown",
      "metadata": {
        "id": "POtDK1MNCqB_"
      },
      "source": [
        "Jumlah kasus setiap Penyakit"
      ]
    },
    {
      "cell_type": "code",
      "execution_count": 8,
      "metadata": {
        "colab": {
          "base_uri": "https://localhost:8080/"
        },
        "id": "hbSW2ibRuc2A",
        "outputId": "aa234c1b-3e1d-4967-ecc5-b50df8d84347"
      },
      "outputs": [
        {
          "data": {
            "text/plain": [
              "Fungal_infection                           120\n",
              "Hepatitis_C                                120\n",
              "Hepatitis_E                                120\n",
              "Alcoholic_hepatitis                        120\n",
              "Tuberculosis                               120\n",
              "Common_Cold                                120\n",
              "Pneumonia                                  120\n",
              "Dimorphic_hemmorhoids(piles)               120\n",
              "Heart_attack                               120\n",
              "Varicose_veins                             120\n",
              "Hypothyroidism                             120\n",
              "Hyperthyroidism                            120\n",
              "Hypoglycemia                               120\n",
              "Osteoarthristis                            120\n",
              "Arthritis                                  120\n",
              "(vertigo)_Paroymsal__Positional_Vertigo    120\n",
              "Acne                                       120\n",
              "Urinary_tract_infection                    120\n",
              "Psoriasis                                  120\n",
              "Hepatitis_D                                120\n",
              "Hepatitis_B                                120\n",
              "Allergy                                    120\n",
              "hepatitis_A                                120\n",
              "GERD                                       120\n",
              "Chronic_cholestasis                        120\n",
              "Drug_Reaction                              120\n",
              "Peptic_ulcer_diseae                        120\n",
              "AIDS                                       120\n",
              "Diabetes                                   120\n",
              "Gastroenteritis                            120\n",
              "Bronchial_Asthma                           120\n",
              "Hypertension                               120\n",
              "Migraine                                   120\n",
              "Cervical_spondylosis                       120\n",
              "Paralysis_(brain_hemorrhage)               120\n",
              "Jaundice                                   120\n",
              "Malaria                                    120\n",
              "Chicken_pox                                120\n",
              "Dengue                                     120\n",
              "Typhoid                                    120\n",
              "Impetigo                                   120\n",
              "Name: Disease, dtype: int64"
            ]
          },
          "execution_count": 8,
          "metadata": {},
          "output_type": "execute_result"
        }
      ],
      "source": [
        "dataset.Disease.value_counts()"
      ]
    },
    {
      "cell_type": "markdown",
      "metadata": {
        "id": "CACLusEgLj5n"
      },
      "source": [
        "Jumlah gejala pada dataset.csv"
      ]
    },
    {
      "cell_type": "code",
      "execution_count": 9,
      "metadata": {
        "colab": {
          "base_uri": "https://localhost:8080/"
        },
        "id": "l0eEjCsMjnYP",
        "outputId": "7010e1b5-4e4a-45a0-facf-ae305b32503e"
      },
      "outputs": [
        {
          "name": "stdout",
          "output_type": "stream",
          "text": [
            "Total Gejala di dataset: 131\n"
          ]
        }
      ],
      "source": [
        "import itertools\n",
        "all_symptom = dataset.drop(columns=['Disease']).values.tolist()\n",
        "all_symptom = list(itertools.chain.from_iterable(all_symptom))\n",
        "all_symptom = list(set(all_symptom))\n",
        "all_symptom = [x for x in all_symptom if str(x) != 'nan']\n",
        "print('Total Gejala di dataset:',len(all_symptom))"
      ]
    },
    {
      "cell_type": "markdown",
      "metadata": {
        "id": "acxTK3PXDAOw"
      },
      "source": [
        "Gejala setiap penyakit"
      ]
    },
    {
      "cell_type": "code",
      "execution_count": 10,
      "metadata": {
        "colab": {
          "base_uri": "https://localhost:8080/",
          "height": 1000
        },
        "id": "DH-jlL5Df1RN",
        "outputId": "dcdc59d9-9b0c-42a0-cee6-6212261c184e"
      },
      "outputs": [
        {
          "data": {
            "text/html": [
              "<div>\n",
              "<style scoped>\n",
              "    .dataframe tbody tr th:only-of-type {\n",
              "        vertical-align: middle;\n",
              "    }\n",
              "\n",
              "    .dataframe tbody tr th {\n",
              "        vertical-align: top;\n",
              "    }\n",
              "\n",
              "    .dataframe thead th {\n",
              "        text-align: right;\n",
              "    }\n",
              "</style>\n",
              "<table border=\"1\" class=\"dataframe\">\n",
              "  <thead>\n",
              "    <tr style=\"text-align: right;\">\n",
              "      <th></th>\n",
              "      <th>Disease</th>\n",
              "      <th>jmlh_symptom_min</th>\n",
              "      <th>jumlh_symptom_max</th>\n",
              "      <th>total_symptom</th>\n",
              "      <th>symptoms</th>\n",
              "    </tr>\n",
              "  </thead>\n",
              "  <tbody>\n",
              "    <tr>\n",
              "      <th>0</th>\n",
              "      <td>Common_Cold</td>\n",
              "      <td>16</td>\n",
              "      <td>17</td>\n",
              "      <td>17</td>\n",
              "      <td>[throat_irritation, muscle_pain, malaise, swel...</td>\n",
              "    </tr>\n",
              "    <tr>\n",
              "      <th>1</th>\n",
              "      <td>Tuberculosis</td>\n",
              "      <td>15</td>\n",
              "      <td>16</td>\n",
              "      <td>16</td>\n",
              "      <td>[weight_loss, loss_of_appetite, vomiting, mala...</td>\n",
              "    </tr>\n",
              "    <tr>\n",
              "      <th>2</th>\n",
              "      <td>Dengue</td>\n",
              "      <td>13</td>\n",
              "      <td>14</td>\n",
              "      <td>14</td>\n",
              "      <td>[nausea, loss_of_appetite, vomiting, muscle_pa...</td>\n",
              "    </tr>\n",
              "    <tr>\n",
              "      <th>3</th>\n",
              "      <td>Hepatitis_E</td>\n",
              "      <td>12</td>\n",
              "      <td>13</td>\n",
              "      <td>13</td>\n",
              "      <td>[nausea, loss_of_appetite, vomiting, abdominal...</td>\n",
              "    </tr>\n",
              "    <tr>\n",
              "      <th>4</th>\n",
              "      <td>Hypothyroidism</td>\n",
              "      <td>12</td>\n",
              "      <td>13</td>\n",
              "      <td>13</td>\n",
              "      <td>[cold_hands_and_feets, depression, mood_swings...</td>\n",
              "    </tr>\n",
              "    <tr>\n",
              "      <th>5</th>\n",
              "      <td>Hepatitis_B</td>\n",
              "      <td>11</td>\n",
              "      <td>12</td>\n",
              "      <td>12</td>\n",
              "      <td>[itching, loss_of_appetite, receiving_unsteril...</td>\n",
              "    </tr>\n",
              "    <tr>\n",
              "      <th>6</th>\n",
              "      <td>Hypoglycemia</td>\n",
              "      <td>11</td>\n",
              "      <td>12</td>\n",
              "      <td>12</td>\n",
              "      <td>[nausea, blurred_and_distorted_vision, vomitin...</td>\n",
              "    </tr>\n",
              "    <tr>\n",
              "      <th>7</th>\n",
              "      <td>hepatitis_A</td>\n",
              "      <td>10</td>\n",
              "      <td>11</td>\n",
              "      <td>11</td>\n",
              "      <td>[nausea, loss_of_appetite, vomiting, muscle_pa...</td>\n",
              "    </tr>\n",
              "    <tr>\n",
              "      <th>8</th>\n",
              "      <td>Typhoid</td>\n",
              "      <td>10</td>\n",
              "      <td>11</td>\n",
              "      <td>11</td>\n",
              "      <td>[nausea, vomiting, abdominal_pain, diarrhoea, ...</td>\n",
              "    </tr>\n",
              "    <tr>\n",
              "      <th>9</th>\n",
              "      <td>Chicken_pox</td>\n",
              "      <td>10</td>\n",
              "      <td>11</td>\n",
              "      <td>11</td>\n",
              "      <td>[itching, loss_of_appetite, malaise, swelled_l...</td>\n",
              "    </tr>\n",
              "    <tr>\n",
              "      <th>10</th>\n",
              "      <td>Hyperthyroidism</td>\n",
              "      <td>10</td>\n",
              "      <td>11</td>\n",
              "      <td>11</td>\n",
              "      <td>[muscle_weakness, weight_loss, mood_swings, ir...</td>\n",
              "    </tr>\n",
              "    <tr>\n",
              "      <th>11</th>\n",
              "      <td>Pneumonia</td>\n",
              "      <td>10</td>\n",
              "      <td>11</td>\n",
              "      <td>11</td>\n",
              "      <td>[malaise, sweating, chest_pain, rusty_sputum, ...</td>\n",
              "    </tr>\n",
              "    <tr>\n",
              "      <th>12</th>\n",
              "      <td>Diabetes</td>\n",
              "      <td>9</td>\n",
              "      <td>10</td>\n",
              "      <td>10</td>\n",
              "      <td>[weight_loss, blurred_and_distorted_vision, ob...</td>\n",
              "    </tr>\n",
              "    <tr>\n",
              "      <th>13</th>\n",
              "      <td>Migraine</td>\n",
              "      <td>8</td>\n",
              "      <td>9</td>\n",
              "      <td>9</td>\n",
              "      <td>[blurred_and_distorted_vision, acidity, irrita...</td>\n",
              "    </tr>\n",
              "    <tr>\n",
              "      <th>14</th>\n",
              "      <td>Hepatitis_D</td>\n",
              "      <td>8</td>\n",
              "      <td>9</td>\n",
              "      <td>9</td>\n",
              "      <td>[nausea, loss_of_appetite, vomiting, abdominal...</td>\n",
              "    </tr>\n",
              "    <tr>\n",
              "      <th>15</th>\n",
              "      <td>Malaria</td>\n",
              "      <td>7</td>\n",
              "      <td>8</td>\n",
              "      <td>8</td>\n",
              "      <td>[nausea, vomiting, muscle_pain, diarrhoea, chi...</td>\n",
              "    </tr>\n",
              "    <tr>\n",
              "      <th>16</th>\n",
              "      <td>Jaundice</td>\n",
              "      <td>7</td>\n",
              "      <td>8</td>\n",
              "      <td>8</td>\n",
              "      <td>[itching, weight_loss, vomiting, abdominal_pai...</td>\n",
              "    </tr>\n",
              "    <tr>\n",
              "      <th>17</th>\n",
              "      <td>Varicose_veins</td>\n",
              "      <td>6</td>\n",
              "      <td>7</td>\n",
              "      <td>7</td>\n",
              "      <td>[obesity, bruising, prominent_veins_on_calf, c...</td>\n",
              "    </tr>\n",
              "    <tr>\n",
              "      <th>18</th>\n",
              "      <td>Alcoholic_hepatitis</td>\n",
              "      <td>6</td>\n",
              "      <td>7</td>\n",
              "      <td>7</td>\n",
              "      <td>[vomiting, history_of_alcohol_consumption, dis...</td>\n",
              "    </tr>\n",
              "    <tr>\n",
              "      <th>19</th>\n",
              "      <td>Chronic_cholestasis</td>\n",
              "      <td>6</td>\n",
              "      <td>7</td>\n",
              "      <td>7</td>\n",
              "      <td>[itching, loss_of_appetite, nausea, vomiting, ...</td>\n",
              "    </tr>\n",
              "    <tr>\n",
              "      <th>20</th>\n",
              "      <td>Osteoarthristis</td>\n",
              "      <td>5</td>\n",
              "      <td>6</td>\n",
              "      <td>6</td>\n",
              "      <td>[neck_pain, hip_joint_pain, painful_walking, s...</td>\n",
              "    </tr>\n",
              "    <tr>\n",
              "      <th>21</th>\n",
              "      <td>Bronchial_Asthma</td>\n",
              "      <td>5</td>\n",
              "      <td>6</td>\n",
              "      <td>6</td>\n",
              "      <td>[family_history, cough, breathlessness, fatigu...</td>\n",
              "    </tr>\n",
              "    <tr>\n",
              "      <th>22</th>\n",
              "      <td>(vertigo)_Paroymsal__Positional_Vertigo</td>\n",
              "      <td>5</td>\n",
              "      <td>6</td>\n",
              "      <td>6</td>\n",
              "      <td>[nausea, spinning_movements, vomiting, loss_of...</td>\n",
              "    </tr>\n",
              "    <tr>\n",
              "      <th>23</th>\n",
              "      <td>Peptic_ulcer_diseae</td>\n",
              "      <td>5</td>\n",
              "      <td>6</td>\n",
              "      <td>6</td>\n",
              "      <td>[loss_of_appetite, vomiting, indigestion, abdo...</td>\n",
              "    </tr>\n",
              "    <tr>\n",
              "      <th>24</th>\n",
              "      <td>Hepatitis_C</td>\n",
              "      <td>5</td>\n",
              "      <td>6</td>\n",
              "      <td>6</td>\n",
              "      <td>[family_history, loss_of_appetite, nausea, yel...</td>\n",
              "    </tr>\n",
              "    <tr>\n",
              "      <th>25</th>\n",
              "      <td>Psoriasis</td>\n",
              "      <td>5</td>\n",
              "      <td>6</td>\n",
              "      <td>6</td>\n",
              "      <td>[small_dents_in_nails, skin_rash, silver_like_...</td>\n",
              "    </tr>\n",
              "    <tr>\n",
              "      <th>26</th>\n",
              "      <td>GERD</td>\n",
              "      <td>5</td>\n",
              "      <td>6</td>\n",
              "      <td>6</td>\n",
              "      <td>[vomiting, chest_pain, stomach_pain, cough, ul...</td>\n",
              "    </tr>\n",
              "    <tr>\n",
              "      <th>27</th>\n",
              "      <td>Arthritis</td>\n",
              "      <td>4</td>\n",
              "      <td>5</td>\n",
              "      <td>5</td>\n",
              "      <td>[muscle_weakness, painful_walking, stiff_neck,...</td>\n",
              "    </tr>\n",
              "    <tr>\n",
              "      <th>28</th>\n",
              "      <td>Impetigo</td>\n",
              "      <td>4</td>\n",
              "      <td>5</td>\n",
              "      <td>5</td>\n",
              "      <td>[red_sore_around_nose, skin_rash, yellow_crust...</td>\n",
              "    </tr>\n",
              "    <tr>\n",
              "      <th>29</th>\n",
              "      <td>Dimorphic_hemmorhoids(piles)</td>\n",
              "      <td>4</td>\n",
              "      <td>5</td>\n",
              "      <td>5</td>\n",
              "      <td>[constipation, irritation_in_anus, bloody_stoo...</td>\n",
              "    </tr>\n",
              "    <tr>\n",
              "      <th>30</th>\n",
              "      <td>Cervical_spondylosis</td>\n",
              "      <td>4</td>\n",
              "      <td>5</td>\n",
              "      <td>5</td>\n",
              "      <td>[weakness_in_limbs, dizziness, loss_of_balance...</td>\n",
              "    </tr>\n",
              "    <tr>\n",
              "      <th>31</th>\n",
              "      <td>Hypertension</td>\n",
              "      <td>4</td>\n",
              "      <td>5</td>\n",
              "      <td>5</td>\n",
              "      <td>[chest_pain, dizziness, loss_of_balance, lack_...</td>\n",
              "    </tr>\n",
              "    <tr>\n",
              "      <th>32</th>\n",
              "      <td>Drug_Reaction</td>\n",
              "      <td>4</td>\n",
              "      <td>5</td>\n",
              "      <td>5</td>\n",
              "      <td>[itching, spotting_urination, stomach_pain, sk...</td>\n",
              "    </tr>\n",
              "    <tr>\n",
              "      <th>33</th>\n",
              "      <td>Heart_attack</td>\n",
              "      <td>3</td>\n",
              "      <td>4</td>\n",
              "      <td>4</td>\n",
              "      <td>[vomiting, chest_pain, sweating, breathlessness]</td>\n",
              "    </tr>\n",
              "    <tr>\n",
              "      <th>34</th>\n",
              "      <td>Allergy</td>\n",
              "      <td>3</td>\n",
              "      <td>4</td>\n",
              "      <td>4</td>\n",
              "      <td>[watering_from_eyes, shivering, chills, contin...</td>\n",
              "    </tr>\n",
              "    <tr>\n",
              "      <th>35</th>\n",
              "      <td>Paralysis_(brain_hemorrhage)</td>\n",
              "      <td>3</td>\n",
              "      <td>4</td>\n",
              "      <td>4</td>\n",
              "      <td>[vomiting, altered_sensorium, weakness_of_one_...</td>\n",
              "    </tr>\n",
              "    <tr>\n",
              "      <th>36</th>\n",
              "      <td>Gastroenteritis</td>\n",
              "      <td>3</td>\n",
              "      <td>4</td>\n",
              "      <td>4</td>\n",
              "      <td>[sunken_eyes, vomiting, diarrhoea, dehydration]</td>\n",
              "    </tr>\n",
              "    <tr>\n",
              "      <th>37</th>\n",
              "      <td>AIDS</td>\n",
              "      <td>3</td>\n",
              "      <td>4</td>\n",
              "      <td>4</td>\n",
              "      <td>[patches_in_throat, extra_marital_contacts, mu...</td>\n",
              "    </tr>\n",
              "    <tr>\n",
              "      <th>38</th>\n",
              "      <td>Acne</td>\n",
              "      <td>3</td>\n",
              "      <td>4</td>\n",
              "      <td>4</td>\n",
              "      <td>[scurring, blackheads, skin_rash, pus_filled_p...</td>\n",
              "    </tr>\n",
              "    <tr>\n",
              "      <th>39</th>\n",
              "      <td>Urinary_tract_infection</td>\n",
              "      <td>3</td>\n",
              "      <td>4</td>\n",
              "      <td>4</td>\n",
              "      <td>[bladder_discomfort, foul_smell_of_urine, cont...</td>\n",
              "    </tr>\n",
              "    <tr>\n",
              "      <th>40</th>\n",
              "      <td>Fungal_infection</td>\n",
              "      <td>3</td>\n",
              "      <td>4</td>\n",
              "      <td>4</td>\n",
              "      <td>[nodal_skin_eruptions, itching, skin_rash, dis...</td>\n",
              "    </tr>\n",
              "  </tbody>\n",
              "</table>\n",
              "</div>"
            ],
            "text/plain": [
              "                                    Disease  jmlh_symptom_min  \\\n",
              "0                               Common_Cold                16   \n",
              "1                              Tuberculosis                15   \n",
              "2                                    Dengue                13   \n",
              "3                               Hepatitis_E                12   \n",
              "4                            Hypothyroidism                12   \n",
              "5                               Hepatitis_B                11   \n",
              "6                              Hypoglycemia                11   \n",
              "7                               hepatitis_A                10   \n",
              "8                                   Typhoid                10   \n",
              "9                               Chicken_pox                10   \n",
              "10                          Hyperthyroidism                10   \n",
              "11                                Pneumonia                10   \n",
              "12                                 Diabetes                 9   \n",
              "13                                 Migraine                 8   \n",
              "14                              Hepatitis_D                 8   \n",
              "15                                  Malaria                 7   \n",
              "16                                 Jaundice                 7   \n",
              "17                           Varicose_veins                 6   \n",
              "18                      Alcoholic_hepatitis                 6   \n",
              "19                      Chronic_cholestasis                 6   \n",
              "20                          Osteoarthristis                 5   \n",
              "21                         Bronchial_Asthma                 5   \n",
              "22  (vertigo)_Paroymsal__Positional_Vertigo                 5   \n",
              "23                      Peptic_ulcer_diseae                 5   \n",
              "24                              Hepatitis_C                 5   \n",
              "25                                Psoriasis                 5   \n",
              "26                                     GERD                 5   \n",
              "27                                Arthritis                 4   \n",
              "28                                 Impetigo                 4   \n",
              "29             Dimorphic_hemmorhoids(piles)                 4   \n",
              "30                     Cervical_spondylosis                 4   \n",
              "31                             Hypertension                 4   \n",
              "32                            Drug_Reaction                 4   \n",
              "33                             Heart_attack                 3   \n",
              "34                                  Allergy                 3   \n",
              "35             Paralysis_(brain_hemorrhage)                 3   \n",
              "36                          Gastroenteritis                 3   \n",
              "37                                     AIDS                 3   \n",
              "38                                     Acne                 3   \n",
              "39                  Urinary_tract_infection                 3   \n",
              "40                         Fungal_infection                 3   \n",
              "\n",
              "    jumlh_symptom_max  total_symptom  \\\n",
              "0                  17             17   \n",
              "1                  16             16   \n",
              "2                  14             14   \n",
              "3                  13             13   \n",
              "4                  13             13   \n",
              "5                  12             12   \n",
              "6                  12             12   \n",
              "7                  11             11   \n",
              "8                  11             11   \n",
              "9                  11             11   \n",
              "10                 11             11   \n",
              "11                 11             11   \n",
              "12                 10             10   \n",
              "13                  9              9   \n",
              "14                  9              9   \n",
              "15                  8              8   \n",
              "16                  8              8   \n",
              "17                  7              7   \n",
              "18                  7              7   \n",
              "19                  7              7   \n",
              "20                  6              6   \n",
              "21                  6              6   \n",
              "22                  6              6   \n",
              "23                  6              6   \n",
              "24                  6              6   \n",
              "25                  6              6   \n",
              "26                  6              6   \n",
              "27                  5              5   \n",
              "28                  5              5   \n",
              "29                  5              5   \n",
              "30                  5              5   \n",
              "31                  5              5   \n",
              "32                  5              5   \n",
              "33                  4              4   \n",
              "34                  4              4   \n",
              "35                  4              4   \n",
              "36                  4              4   \n",
              "37                  4              4   \n",
              "38                  4              4   \n",
              "39                  4              4   \n",
              "40                  4              4   \n",
              "\n",
              "                                             symptoms  \n",
              "0   [throat_irritation, muscle_pain, malaise, swel...  \n",
              "1   [weight_loss, loss_of_appetite, vomiting, mala...  \n",
              "2   [nausea, loss_of_appetite, vomiting, muscle_pa...  \n",
              "3   [nausea, loss_of_appetite, vomiting, abdominal...  \n",
              "4   [cold_hands_and_feets, depression, mood_swings...  \n",
              "5   [itching, loss_of_appetite, receiving_unsteril...  \n",
              "6   [nausea, blurred_and_distorted_vision, vomitin...  \n",
              "7   [nausea, loss_of_appetite, vomiting, muscle_pa...  \n",
              "8   [nausea, vomiting, abdominal_pain, diarrhoea, ...  \n",
              "9   [itching, loss_of_appetite, malaise, swelled_l...  \n",
              "10  [muscle_weakness, weight_loss, mood_swings, ir...  \n",
              "11  [malaise, sweating, chest_pain, rusty_sputum, ...  \n",
              "12  [weight_loss, blurred_and_distorted_vision, ob...  \n",
              "13  [blurred_and_distorted_vision, acidity, irrita...  \n",
              "14  [nausea, loss_of_appetite, vomiting, abdominal...  \n",
              "15  [nausea, vomiting, muscle_pain, diarrhoea, chi...  \n",
              "16  [itching, weight_loss, vomiting, abdominal_pai...  \n",
              "17  [obesity, bruising, prominent_veins_on_calf, c...  \n",
              "18  [vomiting, history_of_alcohol_consumption, dis...  \n",
              "19  [itching, loss_of_appetite, nausea, vomiting, ...  \n",
              "20  [neck_pain, hip_joint_pain, painful_walking, s...  \n",
              "21  [family_history, cough, breathlessness, fatigu...  \n",
              "22  [nausea, spinning_movements, vomiting, loss_of...  \n",
              "23  [loss_of_appetite, vomiting, indigestion, abdo...  \n",
              "24  [family_history, loss_of_appetite, nausea, yel...  \n",
              "25  [small_dents_in_nails, skin_rash, silver_like_...  \n",
              "26  [vomiting, chest_pain, stomach_pain, cough, ul...  \n",
              "27  [muscle_weakness, painful_walking, stiff_neck,...  \n",
              "28  [red_sore_around_nose, skin_rash, yellow_crust...  \n",
              "29  [constipation, irritation_in_anus, bloody_stoo...  \n",
              "30  [weakness_in_limbs, dizziness, loss_of_balance...  \n",
              "31  [chest_pain, dizziness, loss_of_balance, lack_...  \n",
              "32  [itching, spotting_urination, stomach_pain, sk...  \n",
              "33   [vomiting, chest_pain, sweating, breathlessness]  \n",
              "34  [watering_from_eyes, shivering, chills, contin...  \n",
              "35  [vomiting, altered_sensorium, weakness_of_one_...  \n",
              "36    [sunken_eyes, vomiting, diarrhoea, dehydration]  \n",
              "37  [patches_in_throat, extra_marital_contacts, mu...  \n",
              "38  [scurring, blackheads, skin_rash, pus_filled_p...  \n",
              "39  [bladder_discomfort, foul_smell_of_urine, cont...  \n",
              "40  [nodal_skin_eruptions, itching, skin_rash, dis...  "
            ]
          },
          "execution_count": 10,
          "metadata": {},
          "output_type": "execute_result"
        }
      ],
      "source": [
        "# Banyak gejala disetiap kasus penyakit\n",
        "df_min_max = pd.DataFrame()\n",
        "for d in dataset.Disease.unique():\n",
        "  min_sym = (len(dataset.columns)-1)-int(dataset.loc[dataset.Disease == d].isna().sum(axis=1).max())\n",
        "  max_sym = (len(dataset.columns)-1)-int(dataset.loc[dataset.Disease == d].isna().sum(axis=1).min())\n",
        "  df_symps = {'Disease': d, 'jmlh_symptom_min': [min_sym], 'jumlh_symptom_max': [max_sym]}\n",
        "  df_symps = pd.DataFrame(df_symps)\n",
        "  df_min_max = pd.concat([df_min_max, df_symps])\n",
        "\n",
        "# Gejala-gejala disetiap penyakit\n",
        "df_symp_dis = pd.DataFrame()\n",
        "for d in dataset.Disease.unique():\n",
        "  symp = dataset.loc[dataset.Disease == d]\n",
        "  symp = symp.drop(columns=['Disease']).values.tolist()\n",
        "  symp = list(itertools.chain.from_iterable(symp))\n",
        "  symp = list(set(symp))\n",
        "  symp = [x for x in symp if str(x) != 'nan']\n",
        "  df_symp = {'Disease':d, 'total_symptom':len(symp), 'symptoms':[symp]}\n",
        "  df_symp = pd.DataFrame(df_symp)\n",
        "  df_symp_dis = pd.concat([df_symp_dis, df_symp])\n",
        "\n",
        "\n",
        "# Eksplorasi Gejala penyakit\n",
        "pd.merge(df_min_max, df_symp_dis, on=[\"Disease\"]).sort_values(by='total_symptom', ascending=False).reset_index(drop=True)\n"
      ]
    },
    {
      "cell_type": "markdown",
      "metadata": {
        "id": "3zw4ANK4LptZ"
      },
      "source": [
        "Jumlah gejala pada Symptom-severity.csv"
      ]
    },
    {
      "cell_type": "code",
      "execution_count": 11,
      "metadata": {
        "colab": {
          "base_uri": "https://localhost:8080/"
        },
        "id": "su3mCfTsJUpr",
        "outputId": "2450df0d-74da-4499-ea19-9fb2feebfeca"
      },
      "outputs": [
        {
          "name": "stdout",
          "output_type": "stream",
          "text": [
            "Jumlah data : 133\n",
            "Jumlah gejala : 132\n"
          ]
        }
      ],
      "source": [
        "print( 'Jumlah data :', len(sym_wight.Symptom.values.tolist()))\n",
        "print( 'Jumlah gejala :', len(sym_wight.Symptom.unique().tolist()))"
      ]
    },
    {
      "cell_type": "markdown",
      "metadata": {
        "id": "v0-nMRuIOb23"
      },
      "source": [
        "Terdapat satu gejala yang mempunyai dua weight"
      ]
    },
    {
      "cell_type": "code",
      "execution_count": 12,
      "metadata": {
        "colab": {
          "base_uri": "https://localhost:8080/"
        },
        "id": "a-6DEaLGJuw8",
        "outputId": "34035a15-ba5e-4e4b-8b22-05fee29d1039"
      },
      "outputs": [
        {
          "name": "stdout",
          "output_type": "stream",
          "text": [
            "['fluid_overload']\n"
          ]
        }
      ],
      "source": [
        "#gejala duplicate\n",
        "import collections\n",
        "print([sym for sym, count in collections.Counter(sym_wight.Symptom.values.tolist()).items() if count > 1])"
      ]
    },
    {
      "cell_type": "code",
      "execution_count": 13,
      "metadata": {
        "colab": {
          "base_uri": "https://localhost:8080/",
          "height": 112
        },
        "id": "mb5qvQWZK6S7",
        "outputId": "a48d6c7d-b1d3-44e0-a194-12ccde3c90f4"
      },
      "outputs": [
        {
          "data": {
            "text/html": [
              "<div>\n",
              "<style scoped>\n",
              "    .dataframe tbody tr th:only-of-type {\n",
              "        vertical-align: middle;\n",
              "    }\n",
              "\n",
              "    .dataframe tbody tr th {\n",
              "        vertical-align: top;\n",
              "    }\n",
              "\n",
              "    .dataframe thead th {\n",
              "        text-align: right;\n",
              "    }\n",
              "</style>\n",
              "<table border=\"1\" class=\"dataframe\">\n",
              "  <thead>\n",
              "    <tr style=\"text-align: right;\">\n",
              "      <th></th>\n",
              "      <th>Symptom</th>\n",
              "      <th>weight</th>\n",
              "    </tr>\n",
              "  </thead>\n",
              "  <tbody>\n",
              "    <tr>\n",
              "      <th>45</th>\n",
              "      <td>fluid_overload</td>\n",
              "      <td>6</td>\n",
              "    </tr>\n",
              "    <tr>\n",
              "      <th>117</th>\n",
              "      <td>fluid_overload</td>\n",
              "      <td>4</td>\n",
              "    </tr>\n",
              "  </tbody>\n",
              "</table>\n",
              "</div>"
            ],
            "text/plain": [
              "            Symptom  weight\n",
              "45   fluid_overload       6\n",
              "117  fluid_overload       4"
            ]
          },
          "execution_count": 13,
          "metadata": {},
          "output_type": "execute_result"
        }
      ],
      "source": [
        "sym_wight.loc[sym_wight.Symptom == 'fluid_overload']"
      ]
    },
    {
      "cell_type": "markdown",
      "metadata": {
        "id": "RsNBNqboL9Kd"
      },
      "source": [
        "Melakukan cek gejala yang tidak memiliki weight"
      ]
    },
    {
      "cell_type": "code",
      "execution_count": 14,
      "metadata": {
        "colab": {
          "base_uri": "https://localhost:8080/"
        },
        "id": "HTNmbwnKJMHZ",
        "outputId": "1c67812c-e2d3-4d5e-f784-d7b95a3e7c07"
      },
      "outputs": [
        {
          "name": "stdout",
          "output_type": "stream",
          "text": [
            "Gejala tidak mempunyai weight: ['foul_smell_of_urine']\n"
          ]
        }
      ],
      "source": [
        "sym_no_wight=[]\n",
        "for sym in all_symptom:\n",
        "  if sym not in sym_wight.Symptom.unique().tolist():\n",
        "    sym_no_wight.append(sym)\n",
        "print('Gejala tidak mempunyai weight:',sym_no_wight)"
      ]
    },
    {
      "cell_type": "markdown",
      "metadata": {
        "id": "3laKbALrwh-P"
      },
      "source": [
        "Rangkuman EDA\n",
        "\n",
        "1. Terdapat 41 jenis Penyakit pada Dataset \n",
        "2. Jumlah dataset seimbang dengan data setiap penyakit sebanyak 120\n",
        "3. Setiap penyakit memiliki gejala dengan gejala paling sedikit sebanyak 3 dan maksimum 17 gejala\n",
        "4. Terdapat 131 Gejala pada dataset\n",
        "5. Pada Symptom-severity.csv terdapat gejala yang mempunyai 2 weight : ['fluid_overload']\n",
        "6. Gejala ['foul_smell_of_urine'] tidak mempunyai weight"
      ]
    },
    {
      "cell_type": "markdown",
      "metadata": {
        "id": "-Qr06tOQm6op"
      },
      "source": [
        "##  feature extraction"
      ]
    },
    {
      "cell_type": "code",
      "execution_count": null,
      "metadata": {
        "id": "mU7WPkzCnQB3"
      },
      "outputs": [],
      "source": []
    }
  ],
  "metadata": {
    "colab": {
      "collapsed_sections": [],
      "name": "healthcare_HC_01.ipynb",
      "provenance": []
    },
    "kernelspec": {
      "display_name": "Python 3.10.5 64-bit",
      "language": "python",
      "name": "python3"
    },
    "language_info": {
      "codemirror_mode": {
        "name": "ipython",
        "version": 3
      },
      "file_extension": ".py",
      "mimetype": "text/x-python",
      "name": "python",
      "nbconvert_exporter": "python",
      "pygments_lexer": "ipython3",
      "version": "3.10.5"
    },
    "vscode": {
      "interpreter": {
        "hash": "f17adf9f7d881ee82a098c633cf7f2fbe94f7ee073a57359cdacc8c8df16b63b"
      }
    }
  },
  "nbformat": 4,
  "nbformat_minor": 0
}
