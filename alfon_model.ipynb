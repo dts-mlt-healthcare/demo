{
  "cells": [
    {
      "cell_type": "code",
      "execution_count": 1,
      "metadata": {
        "id": "lWr0aqWftXdo"
      },
      "outputs": [],
      "source": [
        "import pandas as pd\n",
        "import numpy as np"
      ]
    },
    {
      "cell_type": "code",
      "execution_count": 2,
      "metadata": {
        "id": "t8mp_vLOt73W"
      },
      "outputs": [],
      "source": [
        "dataset = pd.read_csv('data_healthcare/dataset.csv')\n",
        "desc_sym = pd.read_csv('data_healthcare/symptom_Description.csv')\n",
        "prec_sym = pd.read_csv('data_healthcare/symptom_precaution.csv')\n",
        "sym_wight = pd.read_csv('data_healthcare/Symptom-severity.csv')"
      ]
    },
    {
      "cell_type": "markdown",
      "metadata": {
        "id": "8C8XLyHFL1z4"
      },
      "source": [
        "cleansing"
      ]
    },
    {
      "cell_type": "code",
      "execution_count": 3,
      "metadata": {
        "id": "BLwmmcYBzgFS"
      },
      "outputs": [],
      "source": [
        "#mengilangkan white space\n",
        "dataset = dataset.apply(lambda x: x.str.strip())\n",
        "dataset = dataset.replace('_',' ', regex=True).replace('  ',' ', regex=True).replace(' ofu',' of u', regex=True)\n",
        "desc_sym = desc_sym.apply(lambda x: x.str.strip())\n",
        "prec_sym = prec_sym.apply(lambda x: x.str.strip())"
      ]
    },
    {
      "cell_type": "markdown",
      "metadata": {
        "id": "YK91KLm7IMRl"
      },
      "source": [
        "Split dataset (split in every disease)"
      ]
    },
    {
      "cell_type": "code",
      "execution_count": 4,
      "metadata": {
        "id": "oHDySeVVIOtk"
      },
      "outputs": [],
      "source": [
        "from sklearn.model_selection import train_test_split\n",
        "def df_split(dataset, test_size):\n",
        "  df_train = pd.DataFrame()\n",
        "  df_test = pd.DataFrame()\n",
        "  for dis in dataset.Disease.unique().tolist():\n",
        "    dataset_dis = dataset.loc[dataset.Disease == dis]\n",
        "    train, test = train_test_split(dataset_dis, test_size=test_size, random_state=7)\n",
        "    df_train = pd.concat([df_train, train])\n",
        "    df_test = pd.concat([df_test, test])\n",
        "  return df_train, df_test"
      ]
    },
    {
      "cell_type": "code",
      "execution_count": 5,
      "metadata": {
        "colab": {
          "base_uri": "https://localhost:8080/"
        },
        "id": "i4DmTENNTSOz",
        "outputId": "5733a6c1-0841-42b9-b048-b4becf7f339b"
      },
      "outputs": [
        {
          "name": "stdout",
          "output_type": "stream",
          "text": [
            "4920 4428 492\n"
          ]
        }
      ],
      "source": [
        "train, test = df_split(dataset, 0.1)\n",
        "print(len(dataset), len(train), len(test))"
      ]
    },
    {
      "cell_type": "code",
      "execution_count": 6,
      "metadata": {
        "colab": {
          "base_uri": "https://localhost:8080/"
        },
        "id": "-T2O3rtvU4z5",
        "outputId": "284f0fd2-8694-4f99-86d1-a72bfd8b9721"
      },
      "outputs": [
        {
          "data": {
            "text/plain": [
              "Fungal infection                          108\n",
              "Hepatitis C                               108\n",
              "Hepatitis E                               108\n",
              "Alcoholic hepatitis                       108\n",
              "Tuberculosis                              108\n",
              "Common Cold                               108\n",
              "Pneumonia                                 108\n",
              "Dimorphic hemmorhoids(piles)              108\n",
              "Heart attack                              108\n",
              "Varicose veins                            108\n",
              "Hypothyroidism                            108\n",
              "Hyperthyroidism                           108\n",
              "Hypoglycemia                              108\n",
              "Osteoarthristis                           108\n",
              "Arthritis                                 108\n",
              "(vertigo) Paroymsal Positional Vertigo    108\n",
              "Acne                                      108\n",
              "Urinary tract infection                   108\n",
              "Psoriasis                                 108\n",
              "Hepatitis D                               108\n",
              "Hepatitis B                               108\n",
              "Allergy                                   108\n",
              "hepatitis A                               108\n",
              "GERD                                      108\n",
              "Chronic cholestasis                       108\n",
              "Drug Reaction                             108\n",
              "Peptic ulcer diseae                       108\n",
              "AIDS                                      108\n",
              "Diabetes                                  108\n",
              "Gastroenteritis                           108\n",
              "Bronchial Asthma                          108\n",
              "Hypertension                              108\n",
              "Migraine                                  108\n",
              "Cervical spondylosis                      108\n",
              "Paralysis (brain hemorrhage)              108\n",
              "Jaundice                                  108\n",
              "Malaria                                   108\n",
              "Chicken pox                               108\n",
              "Dengue                                    108\n",
              "Typhoid                                   108\n",
              "Impetigo                                  108\n",
              "Name: Disease, dtype: int64"
            ]
          },
          "execution_count": 6,
          "metadata": {},
          "output_type": "execute_result"
        }
      ],
      "source": [
        "train.Disease.value_counts()"
      ]
    },
    {
      "cell_type": "code",
      "execution_count": 7,
      "metadata": {
        "colab": {
          "base_uri": "https://localhost:8080/"
        },
        "id": "lhYMqK5jNmQc",
        "outputId": "5292b7e8-b193-4f7e-9f07-25b922aabf32"
      },
      "outputs": [
        {
          "data": {
            "text/plain": [
              "Fungal infection                          12\n",
              "Hepatitis C                               12\n",
              "Hepatitis E                               12\n",
              "Alcoholic hepatitis                       12\n",
              "Tuberculosis                              12\n",
              "Common Cold                               12\n",
              "Pneumonia                                 12\n",
              "Dimorphic hemmorhoids(piles)              12\n",
              "Heart attack                              12\n",
              "Varicose veins                            12\n",
              "Hypothyroidism                            12\n",
              "Hyperthyroidism                           12\n",
              "Hypoglycemia                              12\n",
              "Osteoarthristis                           12\n",
              "Arthritis                                 12\n",
              "(vertigo) Paroymsal Positional Vertigo    12\n",
              "Acne                                      12\n",
              "Urinary tract infection                   12\n",
              "Psoriasis                                 12\n",
              "Hepatitis D                               12\n",
              "Hepatitis B                               12\n",
              "Allergy                                   12\n",
              "hepatitis A                               12\n",
              "GERD                                      12\n",
              "Chronic cholestasis                       12\n",
              "Drug Reaction                             12\n",
              "Peptic ulcer diseae                       12\n",
              "AIDS                                      12\n",
              "Diabetes                                  12\n",
              "Gastroenteritis                           12\n",
              "Bronchial Asthma                          12\n",
              "Hypertension                              12\n",
              "Migraine                                  12\n",
              "Cervical spondylosis                      12\n",
              "Paralysis (brain hemorrhage)              12\n",
              "Jaundice                                  12\n",
              "Malaria                                   12\n",
              "Chicken pox                               12\n",
              "Dengue                                    12\n",
              "Typhoid                                   12\n",
              "Impetigo                                  12\n",
              "Name: Disease, dtype: int64"
            ]
          },
          "execution_count": 7,
          "metadata": {},
          "output_type": "execute_result"
        }
      ],
      "source": [
        "test.Disease.value_counts()"
      ]
    },
    {
      "cell_type": "code",
      "execution_count": 8,
      "metadata": {
        "id": "zh2ZPSTuZAPK"
      },
      "outputs": [],
      "source": [
        "# save train test dataset\n",
        "train.to_csv('train_dataset.csv', index=False)\n",
        "test.to_csv('test_dataset.csv',  index=False)"
      ]
    },
    {
      "cell_type": "markdown",
      "metadata": {
        "id": "-Qr06tOQm6op"
      },
      "source": [
        "##  feature extraction"
      ]
    },
    {
      "cell_type": "markdown",
      "metadata": {
        "id": "rfUWkAOcI0GI"
      },
      "source": [
        "onehot encode"
      ]
    },
    {
      "cell_type": "code",
      "execution_count": 9,
      "metadata": {
        "id": "d-YagkCwWpZ5"
      },
      "outputs": [],
      "source": [
        "from sklearn.preprocessing import MultiLabelBinarizer\n",
        "from sklearn.preprocessing import OneHotEncoder\n",
        "import matplotlib.pyplot as plt\n",
        "from sklearn.metrics import confusion_matrix\n",
        "import seaborn as sns\n"
      ]
    },
    {
      "cell_type": "code",
      "execution_count": 10,
      "metadata": {
        "id": "kWKOx9cNJAJk"
      },
      "outputs": [],
      "source": [
        "def df_symptoms_list(dataset):\n",
        "    # symptoms to list\n",
        "    dataset = pd.DataFrame({'Disease':dataset.Disease, 'Symptoms':dataset.drop(columns=['Disease']).values.tolist()})\n",
        "    dataset['Symptoms'] = dataset.Symptoms.apply(lambda case: [symptom for symptom in case if str(symptom) != 'nan']) # remove nan value\n",
        "    return dataset"
      ]
    },
    {
      "cell_type": "code",
      "execution_count": 11,
      "metadata": {
        "id": "AYvGIprT757m"
      },
      "outputs": [],
      "source": [
        "def onehot_dataset(train, test):\n",
        "    # Symptoms to list\n",
        "    train_list = df_symptoms_list(train)\n",
        "    test_list = df_symptoms_list(test)\n",
        "\n",
        "    # Symptoms_list to onehot\n",
        "    mlb = MultiLabelBinarizer(sparse_output=True)\n",
        "\n",
        "    train_mlb = pd.DataFrame.sparse.from_spmatrix(\n",
        "                    mlb.fit_transform(train_list.Symptoms),\n",
        "                    index=train_list.index,\n",
        "                    columns=mlb.classes_)\n",
        "    test_mlb = pd.DataFrame.sparse.from_spmatrix(\n",
        "                    mlb.transform(test_list.Symptoms),\n",
        "                    index=test_list.index,\n",
        "                    columns=mlb.classes_)\n",
        "    \n",
        "    X_train = np.array(train_mlb)\n",
        "    X_test = np.array(test_mlb)\n",
        "\n",
        "    # Label/Disease to onehot\n",
        "    enc = OneHotEncoder(handle_unknown='ignore')\n",
        "    y_train = enc.fit_transform(train[['Disease']]).toarray()\n",
        "    y_test = np.array(test[['Disease']])\n",
        "\n",
        "    return X_train, X_test, y_train, y_test, mlb, enc"
      ]
    },
    {
      "cell_type": "code",
      "execution_count": 12,
      "metadata": {
        "id": "XDGQVSr30ixg"
      },
      "outputs": [],
      "source": [
        "X_train, X_test, y_train, y_test, mlb, enc = onehot_dataset(train, test)"
      ]
    },
    {
      "cell_type": "code",
      "execution_count": 13,
      "metadata": {
        "id": "zmP3apTNZHCZ"
      },
      "outputs": [],
      "source": [
        "X_train, X_val, y_train, y_val = train_test_split(X_train, y_train, test_size=0.1, random_state=7)"
      ]
    },
    {
      "cell_type": "code",
      "execution_count": 14,
      "metadata": {
        "colab": {
          "base_uri": "https://localhost:8080/"
        },
        "id": "mzbvq-JMuTiK",
        "outputId": "04b366a6-f504-437c-c1f3-d7b286883755"
      },
      "outputs": [
        {
          "name": "stdout",
          "output_type": "stream",
          "text": [
            "(3985, 131) (443, 131) (492, 131) (3985, 41) (443, 41) (492, 1)\n"
          ]
        }
      ],
      "source": [
        "print(X_train.shape, X_val.shape, X_test.shape, y_train.shape, y_val.shape, y_test.shape)"
      ]
    },
    {
      "cell_type": "code",
      "execution_count": 15,
      "metadata": {
        "colab": {
          "base_uri": "https://localhost:8080/"
        },
        "id": "cMIonK5r6ty5",
        "outputId": "e2eb4daa-6aaf-41c3-8019-11fbda1f8945"
      },
      "outputs": [
        {
          "name": "stdout",
          "output_type": "stream",
          "text": [
            "131 41\n"
          ]
        }
      ],
      "source": [
        "print(len(mlb.classes_), len(enc.categories_[0]))"
      ]
    },
    {
      "cell_type": "markdown",
      "metadata": {
        "id": "ImoNTxNxa4ty"
      },
      "source": [
        "# Model"
      ]
    },
    {
      "cell_type": "markdown",
      "metadata": {
        "id": "bei0mmg4_7VQ"
      },
      "source": [
        "### neural network"
      ]
    },
    {
      "cell_type": "code",
      "execution_count": 16,
      "metadata": {
        "id": "N7AhJLUiBQTE"
      },
      "outputs": [],
      "source": [
        "import tensorflow as tf\n",
        "from tensorflow.keras.models import Sequential\n",
        "from tensorflow.keras.layers import Dense, Dropout"
      ]
    },
    {
      "cell_type": "code",
      "execution_count": 17,
      "metadata": {
        "colab": {
          "base_uri": "https://localhost:8080/"
        },
        "id": "ALo4KN5CDbQx",
        "outputId": "5a1d3d56-dbd4-487a-bdbe-44876094599d"
      },
      "outputs": [
        {
          "data": {
            "text/plain": [
              "(None,)"
            ]
          },
          "execution_count": 17,
          "metadata": {},
          "output_type": "execute_result"
        }
      ],
      "source": [
        "model = Sequential()\n",
        "model.add(Dense(64, input_dim=X_train.shape[1], activation='relu')),\n",
        "model.add(Dense(128, activation='relu')),\n",
        "model.add(Dropout(0.3)),\n",
        "model.add(Dense(y_train.shape[1], activation='sigmoid')),"
      ]
    },
    {
      "cell_type": "code",
      "execution_count": 18,
      "metadata": {
        "colab": {
          "base_uri": "https://localhost:8080/"
        },
        "id": "laRcQTJ-EFsi",
        "outputId": "55406b94-83ec-4307-b7bf-0f5b9a184ff8"
      },
      "outputs": [
        {
          "name": "stdout",
          "output_type": "stream",
          "text": [
            "Model: \"sequential\"\n",
            "_________________________________________________________________\n",
            " Layer (type)                Output Shape              Param #   \n",
            "=================================================================\n",
            " dense (Dense)               (None, 64)                8448      \n",
            "                                                                 \n",
            " dense_1 (Dense)             (None, 128)               8320      \n",
            "                                                                 \n",
            " dropout (Dropout)           (None, 128)               0         \n",
            "                                                                 \n",
            " dense_2 (Dense)             (None, 41)                5289      \n",
            "                                                                 \n",
            "=================================================================\n",
            "Total params: 22,057\n",
            "Trainable params: 22,057\n",
            "Non-trainable params: 0\n",
            "_________________________________________________________________\n"
          ]
        }
      ],
      "source": [
        "model.compile(loss='categorical_crossentropy',optimizer='adam',metrics=['accuracy'])\n",
        "model.summary()"
      ]
    },
    {
      "cell_type": "code",
      "execution_count": 19,
      "metadata": {
        "colab": {
          "base_uri": "https://localhost:8080/"
        },
        "id": "g0ucuFOOET24",
        "outputId": "64d97a96-4b2a-4171-f2b8-b7c4ac8784c9"
      },
      "outputs": [
        {
          "name": "stdout",
          "output_type": "stream",
          "text": [
            "Epoch 1/10\n",
            "125/125 - 1s - loss: 2.1913 - accuracy: 0.7014 - val_loss: 0.3430 - val_accuracy: 1.0000 - 678ms/epoch - 5ms/step\n",
            "Epoch 2/10\n",
            "125/125 - 0s - loss: 0.1531 - accuracy: 0.9937 - val_loss: 0.0270 - val_accuracy: 1.0000 - 205ms/epoch - 2ms/step\n",
            "Epoch 3/10\n",
            "125/125 - 0s - loss: 0.0364 - accuracy: 0.9992 - val_loss: 0.0086 - val_accuracy: 1.0000 - 175ms/epoch - 1ms/step\n",
            "Epoch 4/10\n",
            "125/125 - 0s - loss: 0.0165 - accuracy: 0.9997 - val_loss: 0.0041 - val_accuracy: 1.0000 - 162ms/epoch - 1ms/step\n",
            "Epoch 5/10\n",
            "125/125 - 0s - loss: 0.0104 - accuracy: 0.9997 - val_loss: 0.0024 - val_accuracy: 1.0000 - 165ms/epoch - 1ms/step\n",
            "Epoch 6/10\n",
            "125/125 - 0s - loss: 0.0070 - accuracy: 1.0000 - val_loss: 0.0015 - val_accuracy: 1.0000 - 159ms/epoch - 1ms/step\n",
            "Epoch 7/10\n",
            "125/125 - 0s - loss: 0.0052 - accuracy: 1.0000 - val_loss: 9.9900e-04 - val_accuracy: 1.0000 - 165ms/epoch - 1ms/step\n",
            "Epoch 8/10\n",
            "125/125 - 0s - loss: 0.0039 - accuracy: 1.0000 - val_loss: 7.2308e-04 - val_accuracy: 1.0000 - 157ms/epoch - 1ms/step\n",
            "Epoch 9/10\n",
            "125/125 - 0s - loss: 0.0028 - accuracy: 1.0000 - val_loss: 5.5258e-04 - val_accuracy: 1.0000 - 158ms/epoch - 1ms/step\n",
            "Epoch 10/10\n",
            "125/125 - 0s - loss: 0.0026 - accuracy: 1.0000 - val_loss: 4.6934e-04 - val_accuracy: 1.0000 - 159ms/epoch - 1ms/step\n"
          ]
        }
      ],
      "source": [
        "history = model.fit(X_train, y_train, validation_data=(X_val, y_val),\n",
        "          epochs=10,\n",
        "          verbose=2)"
      ]
    },
    {
      "cell_type": "code",
      "execution_count": 20,
      "metadata": {
        "colab": {
          "base_uri": "https://localhost:8080/",
          "height": 573
        },
        "id": "_BgAsVGpaBt4",
        "outputId": "c7d1cf9e-f4a0-46ff-bd1d-27e2ba3d3fb0"
      },
      "outputs": [
        {
          "data": {
            "image/png": "[encoded data removed]",
            "text/plain": [
              "<Figure size 432x288 with 1 Axes>"
            ]
          },
          "metadata": {
            "needs_background": "light"
          },
          "output_type": "display_data"
        },
        {
          "data": {
            "image/png": "[encoded data removed]",
            "text/plain": [
              "<Figure size 432x288 with 1 Axes>"
            ]
          },
          "metadata": {
            "needs_background": "light"
          },
          "output_type": "display_data"
        }
      ],
      "source": [
        "# summarize history for accuracy\n",
        "plt.plot(history.history['accuracy'])\n",
        "plt.plot(history.history['val_accuracy'])\n",
        "plt.title('Training and validation accuracy')\n",
        "plt.ylabel('accuracy')\n",
        "plt.xlabel('epoch')\n",
        "plt.legend(['Training', 'validation'], loc='upper left')\n",
        "plt.show()\n",
        "\n",
        "# summarize history for loss\n",
        "plt.plot(history.history['loss'])\n",
        "plt.plot(history.history['val_loss'])\n",
        "plt.title('Training and validation loss')\n",
        "plt.ylabel('loss')\n",
        "plt.xlabel('epoch')\n",
        "plt.legend(['Training', 'validation'], loc='upper left')\n",
        "plt.show()"
      ]
    },
    {
      "cell_type": "code",
      "execution_count": 21,
      "metadata": {
        "colab": {
          "base_uri": "https://localhost:8080/"
        },
        "id": "9c2jK9G8W2fU",
        "outputId": "c0cfb73c-98b3-42af-df28-b6b670758988"
      },
      "outputs": [
        {
          "name": "stdout",
          "output_type": "stream",
          "text": [
            "16/16 [==============================] - 0s 731us/step\n",
            "[[12  0  0 ...  0  0  0]\n",
            " [ 0 12  0 ...  0  0  0]\n",
            " [ 0  0 12 ...  0  0  0]\n",
            " ...\n",
            " [ 0  0  0 ... 12  0  0]\n",
            " [ 0  0  0 ...  0 12  0]\n",
            " [ 0  0  0 ...  0  0 12]]\n"
          ]
        }
      ],
      "source": [
        "y_pred = enc.inverse_transform(model.predict(X_test))\n",
        "cf_matrix = confusion_matrix(y_test, y_pred)\n",
        "\n",
        "print(cf_matrix)"
      ]
    },
    {
      "cell_type": "code",
      "execution_count": 22,
      "metadata": {
        "colab": {
          "base_uri": "https://localhost:8080/",
          "height": 499
        },
        "id": "_XYYEFu5YHp0",
        "outputId": "5ca49b37-96fd-41f9-81c7-567a355d28e7"
      },
      "outputs": [
        {
          "data": {
            "image/png": "[encoded data removed]",
            "text/plain": [
              "<Figure size 864x576 with 2 Axes>"
            ]
          },
          "metadata": {
            "needs_background": "light"
          },
          "output_type": "display_data"
        }
      ],
      "source": [
        "plt.figure(figsize=(12,8))\n",
        "sns.heatmap(cf_matrix, annot=True)\n",
        "plt.title(\"Confusion Matrix on Test Data - Neural Network\")\n",
        "plt.show()"
      ]
    },
    {
      "cell_type": "code",
      "execution_count": 23,
      "metadata": {
        "id": "fm3Oag0pdevl"
      },
      "outputs": [],
      "source": [
        "model.save('model/Classification_Disease.h5')"
      ]
    },
    {
      "cell_type": "code",
      "execution_count": 24,
      "metadata": {
        "id": "nkR5CWBGBiPZ"
      },
      "outputs": [],
      "source": [
        "import joblib"
      ]
    },
    {
      "cell_type": "code",
      "execution_count": 25,
      "metadata": {
        "colab": {
          "base_uri": "https://localhost:8080/"
        },
        "id": "GmZI-_W8Bpoe",
        "outputId": "15cf4fe7-084d-46b3-ae73-53db759655c5"
      },
      "outputs": [
        {
          "data": {
            "text/plain": [
              "['model/symps_ohe.pkl']"
            ]
          },
          "execution_count": 25,
          "metadata": {},
          "output_type": "execute_result"
        }
      ],
      "source": [
        "joblib.dump(enc, 'model/label_ohe.pkl')\n",
        "joblib.dump(mlb, 'model/symps_ohe.pkl')"
      ]
    },
    {
      "cell_type": "markdown",
      "metadata": {
        "id": "TGQa4IXe-X1k"
      },
      "source": [
        "# Deploy"
      ]
    },
    {
      "cell_type": "code",
      "execution_count": 26,
      "metadata": {
        "id": "rxKCpepYeDJv"
      },
      "outputs": [],
      "source": [
        "from tensorflow.keras.models import load_model\n",
        "from sklearn.preprocessing import MultiLabelBinarizer\n",
        "from sklearn.preprocessing import OneHotEncoder\n",
        "from collections import Counter\n",
        "import itertools\n",
        "import numpy as np"
      ]
    },
    {
      "cell_type": "code",
      "execution_count": 27,
      "metadata": {
        "id": "H2rKbucs-Xgh"
      },
      "outputs": [],
      "source": [
        "dis_pred_model = load_model('model/Classification_Disease.h5')"
      ]
    },
    {
      "cell_type": "code",
      "execution_count": 28,
      "metadata": {
        "id": "Th5YzUdsrhrP"
      },
      "outputs": [],
      "source": [
        "enc = joblib.load('model/label_ohe.pkl')"
      ]
    },
    {
      "cell_type": "code",
      "execution_count": 29,
      "metadata": {
        "id": "E_R2BeD0ujSz"
      },
      "outputs": [],
      "source": [
        "mlb = joblib.load('model/symps_ohe.pkl')"
      ]
    },
    {
      "cell_type": "code",
      "execution_count": 30,
      "metadata": {
        "id": "cgkhBrf8u3tX"
      },
      "outputs": [],
      "source": [
        "all_symptom_data = mlb.classes_.tolist()"
      ]
    },
    {
      "cell_type": "code",
      "execution_count": 31,
      "metadata": {
        "id": "JMg7ZU7HITYi"
      },
      "outputs": [],
      "source": [
        "#one hot encoding symtomps\n",
        "def onehot_sym(symptoms:list, all_symptom_data=all_symptom_data):\n",
        "    matrix_sym = [0] * len(all_symptom_data) #inisiate onehot matrix\n",
        "    for symptom in symptoms:\n",
        "        try:\n",
        "            index = all_symptom_data.index(symptom)\n",
        "            matrix_sym[index] = 1\n",
        "        except:pass # pass, when the symptom not in all_symptom_data\n",
        "    return np.array(matrix_sym).reshape(1,-1)"
      ]
    },
    {
      "cell_type": "code",
      "execution_count": 32,
      "metadata": {
        "id": "epszoAcGecHf"
      },
      "outputs": [],
      "source": [
        "def clean(symptoms):\n",
        "    sym = symptoms.split(',')\n",
        "    sym = [s.strip() for s in sym]\n",
        "    return sym"
      ]
    },
    {
      "cell_type": "markdown",
      "metadata": {},
      "source": [
        "test"
      ]
    },
    {
      "cell_type": "code",
      "execution_count": 33,
      "metadata": {
        "colab": {
          "base_uri": "https://localhost:8080/"
        },
        "id": "6UxqlDqXv-5v",
        "outputId": "467c8477-51bd-40ab-998c-657972e84b81"
      },
      "outputs": [
        {
          "name": "stdout",
          "output_type": "stream",
          "text": [
            "1/1 [==============================] - 0s 45ms/step\n",
            "1/1 [==============================] - 0s 15ms/step\n",
            "GERD : 0.1704917997121811\n",
            "\n"
          ]
        }
      ],
      "source": [
        "a = '''abdominal pain ,  acidity, anxiety'''\n",
        "a = clean(a)\n",
        "a = onehot_sym(a)\n",
        "result = enc.inverse_transform(dis_pred_model.predict(a))[0][0]\n",
        "proba =  np.max(model.predict(a))\n",
        "print(f\"{result} : {proba}\\n\")"
      ]
    },
    {
      "cell_type": "code",
      "execution_count": 34,
      "metadata": {
        "colab": {
          "base_uri": "https://localhost:8080/"
        },
        "id": "Vcd47UUSllnT",
        "outputId": "855afd2a-8669-4b13-f0a1-97520c5838d0"
      },
      "outputs": [
        {
          "name": "stdout",
          "output_type": "stream",
          "text": [
            "1/1 [==============================] - 0s 15ms/step\n",
            "1/1 [==============================] - 0s 16ms/step\n",
            "Fungal infection : 0.9998572468757629\n",
            "\n"
          ]
        }
      ],
      "source": [
        "b = '''infection,itching,skin rash,nodal skin eruptions,dischromic patches'''\n",
        "b = clean(b)\n",
        "b = onehot_sym(b)\n",
        "result = enc.inverse_transform(dis_pred_model.predict(b))[0][0]\n",
        "proba =  np.max(model.predict(b))\n",
        "print(f\"{result} : {proba}\\n\")"
      ]
    }
  ],
  "metadata": {
    "colab": {
      "collapsed_sections": [],
      "name": "healthcare_HC_01_MultilabelBinarizer.ipynb",
      "provenance": []
    },
    "kernelspec": {
      "display_name": "Python 3.10.5 64-bit",
      "language": "python",
      "name": "python3"
    },
    "language_info": {
      "codemirror_mode": {
        "name": "ipython",
        "version": 3
      },
      "file_extension": ".py",
      "mimetype": "text/x-python",
      "name": "python",
      "nbconvert_exporter": "python",
      "pygments_lexer": "ipython3",
      "version": "3.10.5"
    },
    "vscode": {
      "interpreter": {
        "hash": "f17adf9f7d881ee82a098c633cf7f2fbe94f7ee073a57359cdacc8c8df16b63b"
      }
    }
  },
  "nbformat": 4,
  "nbformat_minor": 0
}
