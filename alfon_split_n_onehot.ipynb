{
  "nbformat": 4,
  "nbformat_minor": 0,
  "metadata": {
    "colab": {
      "name": "healthcare_HC_01_model.ipynb",
      "provenance": [],
      "collapsed_sections": []
    },
    "kernelspec": {
      "name": "python3",
      "display_name": "Python 3"
    },
    "language_info": {
      "name": "python"
    }
  },
  "cells": [
    {
      "cell_type": "code",
      "execution_count": 1,
      "metadata": {
        "id": "lWr0aqWftXdo"
      },
      "outputs": [],
      "source": [
        "import pandas as pd\n",
        "import numpy as np"
      ]
    },
    {
      "cell_type": "code",
      "source": [
        "dataset = pd.read_csv('/content/drive/MyDrive/DTS/Proa_ML_tensor/healthcare_project/dataset.csv')\n",
        "desc_sym = pd.read_csv('/content/drive/MyDrive/DTS/Proa_ML_tensor/healthcare_project/symptom_Description.csv')\n",
        "prec_sym = pd.read_csv('/content/drive/MyDrive/DTS/Proa_ML_tensor/healthcare_project/symptom_precaution.csv')\n",
        "sym_wight = pd.read_csv('/content/drive/MyDrive/DTS/Proa_ML_tensor/healthcare_project/Symptom-severity.csv')"
      ],
      "metadata": {
        "id": "t8mp_vLOt73W"
      },
      "execution_count": 2,
      "outputs": []
    },
    {
      "cell_type": "markdown",
      "source": [
        "cleansing"
      ],
      "metadata": {
        "id": "8C8XLyHFL1z4"
      }
    },
    {
      "cell_type": "code",
      "source": [
        "#mengilangkan white space\n",
        "dataset = dataset.apply(lambda x: x.str.strip())\n",
        "dataset = dataset.replace('_',' ', regex=True).replace('  ',' ', regex=True).replace(' ofu',' of u', regex=True)\n",
        "desc_sym = desc_sym.apply(lambda x: x.str.strip())\n",
        "prec_sym = prec_sym.apply(lambda x: x.str.strip())"
      ],
      "metadata": {
        "id": "BLwmmcYBzgFS"
      },
      "execution_count": 3,
      "outputs": []
    },
    {
      "cell_type": "markdown",
      "source": [
        "Split dataset (split in every disease)"
      ],
      "metadata": {
        "id": "YK91KLm7IMRl"
      }
    },
    {
      "cell_type": "code",
      "source": [
        "from sklearn.model_selection import train_test_split\n",
        "def df_split(dataset, test_size):\n",
        "  df_train = pd.DataFrame()\n",
        "  df_test = pd.DataFrame()\n",
        "  for dis in dataset.Disease.unique().tolist():\n",
        "    dataset_dis = dataset.loc[dataset.Disease == dis]\n",
        "    train, test = train_test_split(dataset_dis, test_size=test_size, random_state=7)\n",
        "    df_train = df_train.append(train)\n",
        "    df_test = df_test.append(test)\n",
        "  return df_train, df_test"
      ],
      "metadata": {
        "id": "oHDySeVVIOtk"
      },
      "execution_count": 4,
      "outputs": []
    },
    {
      "cell_type": "code",
      "source": [
        "train, test = df_split(dataset, 0.2)\n",
        "print(len(dataset), len(train), len(test))"
      ],
      "metadata": {
        "colab": {
          "base_uri": "https://localhost:8080/"
        },
        "id": "i4DmTENNTSOz",
        "outputId": "743fce65-1615-4c11-85cd-ac42848bfa52"
      },
      "execution_count": 5,
      "outputs": [
        {
          "output_type": "stream",
          "name": "stdout",
          "text": [
            "4920 3936 984\n"
          ]
        }
      ]
    },
    {
      "cell_type": "code",
      "source": [
        "train.Disease.value_counts()"
      ],
      "metadata": {
        "colab": {
          "base_uri": "https://localhost:8080/"
        },
        "id": "-T2O3rtvU4z5",
        "outputId": "a773f1fa-ca61-48d0-f7d1-f6ef849bf1f8"
      },
      "execution_count": 6,
      "outputs": [
        {
          "output_type": "execute_result",
          "data": {
            "text/plain": [
              "Fungal infection                          96\n",
              "Hepatitis C                               96\n",
              "Hepatitis E                               96\n",
              "Alcoholic hepatitis                       96\n",
              "Tuberculosis                              96\n",
              "Common Cold                               96\n",
              "Pneumonia                                 96\n",
              "Dimorphic hemmorhoids(piles)              96\n",
              "Heart attack                              96\n",
              "Varicose veins                            96\n",
              "Hypothyroidism                            96\n",
              "Hyperthyroidism                           96\n",
              "Hypoglycemia                              96\n",
              "Osteoarthristis                           96\n",
              "Arthritis                                 96\n",
              "(vertigo) Paroymsal Positional Vertigo    96\n",
              "Acne                                      96\n",
              "Urinary tract infection                   96\n",
              "Psoriasis                                 96\n",
              "Hepatitis D                               96\n",
              "Hepatitis B                               96\n",
              "Allergy                                   96\n",
              "hepatitis A                               96\n",
              "GERD                                      96\n",
              "Chronic cholestasis                       96\n",
              "Drug Reaction                             96\n",
              "Peptic ulcer diseae                       96\n",
              "AIDS                                      96\n",
              "Diabetes                                  96\n",
              "Gastroenteritis                           96\n",
              "Bronchial Asthma                          96\n",
              "Hypertension                              96\n",
              "Migraine                                  96\n",
              "Cervical spondylosis                      96\n",
              "Paralysis (brain hemorrhage)              96\n",
              "Jaundice                                  96\n",
              "Malaria                                   96\n",
              "Chicken pox                               96\n",
              "Dengue                                    96\n",
              "Typhoid                                   96\n",
              "Impetigo                                  96\n",
              "Name: Disease, dtype: int64"
            ]
          },
          "metadata": {},
          "execution_count": 6
        }
      ]
    },
    {
      "cell_type": "code",
      "source": [
        "test.Disease.value_counts()"
      ],
      "metadata": {
        "colab": {
          "base_uri": "https://localhost:8080/"
        },
        "id": "lhYMqK5jNmQc",
        "outputId": "747573fa-f544-4c52-a90c-eb3685cf6756"
      },
      "execution_count": 7,
      "outputs": [
        {
          "output_type": "execute_result",
          "data": {
            "text/plain": [
              "Fungal infection                          24\n",
              "Hepatitis C                               24\n",
              "Hepatitis E                               24\n",
              "Alcoholic hepatitis                       24\n",
              "Tuberculosis                              24\n",
              "Common Cold                               24\n",
              "Pneumonia                                 24\n",
              "Dimorphic hemmorhoids(piles)              24\n",
              "Heart attack                              24\n",
              "Varicose veins                            24\n",
              "Hypothyroidism                            24\n",
              "Hyperthyroidism                           24\n",
              "Hypoglycemia                              24\n",
              "Osteoarthristis                           24\n",
              "Arthritis                                 24\n",
              "(vertigo) Paroymsal Positional Vertigo    24\n",
              "Acne                                      24\n",
              "Urinary tract infection                   24\n",
              "Psoriasis                                 24\n",
              "Hepatitis D                               24\n",
              "Hepatitis B                               24\n",
              "Allergy                                   24\n",
              "hepatitis A                               24\n",
              "GERD                                      24\n",
              "Chronic cholestasis                       24\n",
              "Drug Reaction                             24\n",
              "Peptic ulcer diseae                       24\n",
              "AIDS                                      24\n",
              "Diabetes                                  24\n",
              "Gastroenteritis                           24\n",
              "Bronchial Asthma                          24\n",
              "Hypertension                              24\n",
              "Migraine                                  24\n",
              "Cervical spondylosis                      24\n",
              "Paralysis (brain hemorrhage)              24\n",
              "Jaundice                                  24\n",
              "Malaria                                   24\n",
              "Chicken pox                               24\n",
              "Dengue                                    24\n",
              "Typhoid                                   24\n",
              "Impetigo                                  24\n",
              "Name: Disease, dtype: int64"
            ]
          },
          "metadata": {},
          "execution_count": 7
        }
      ]
    },
    {
      "cell_type": "code",
      "source": [
        "# save train test dataset\n",
        "train.to_csv('train_dataset.csv', index=False)\n",
        "test.to_csv('test_dataset.csv',  index=False)"
      ],
      "metadata": {
        "id": "zh2ZPSTuZAPK"
      },
      "execution_count": 8,
      "outputs": []
    },
    {
      "cell_type": "markdown",
      "source": [
        "##  feature extraction"
      ],
      "metadata": {
        "id": "-Qr06tOQm6op"
      }
    },
    {
      "cell_type": "markdown",
      "source": [
        "onehot encode"
      ],
      "metadata": {
        "id": "rfUWkAOcI0GI"
      }
    },
    {
      "cell_type": "code",
      "source": [
        "from collections import Counter\n",
        "import itertools"
      ],
      "metadata": {
        "id": "d-YagkCwWpZ5"
      },
      "execution_count": 9,
      "outputs": []
    },
    {
      "cell_type": "code",
      "source": [
        "def df_symptoms_list(dataset):\n",
        "    # symptoms to list\n",
        "    dataset = pd.DataFrame({'Disease':dataset.Disease, 'Symptoms':dataset.drop(columns=['Disease']).values.tolist()})\n",
        "    dataset['Symptoms'] = dataset.Symptoms.apply(lambda case: [symptom for symptom in case if str(symptom) != 'nan']) # remove nan value\n",
        "    return dataset"
      ],
      "metadata": {
        "id": "kWKOx9cNJAJk"
      },
      "execution_count": 10,
      "outputs": []
    },
    {
      "cell_type": "code",
      "source": [
        "# list all symptoms from train_dataset\n",
        "def all_symptom(df_train_sym_list):\n",
        "    all_sym = list(itertools.chain.from_iterable(df_train_sym_list.Symptoms))\n",
        "    return list(dict.fromkeys(all_sym))"
      ],
      "metadata": {
        "id": "QwaSvRM-QvaX"
      },
      "execution_count": 11,
      "outputs": []
    },
    {
      "cell_type": "code",
      "source": [
        "#one hot encoding symtomps\n",
        "def onehot_sym(symptoms:list, all_symptom_data:list):\n",
        "    matrix_sym = [0] * len(all_symptom_data) #inisiate onehot matrix\n",
        "    for symptom in symptoms:\n",
        "        try:\n",
        "            index = all_symptom_data.index(symptom)\n",
        "            matrix_sym[index] = 1\n",
        "        except:pass # pass, when the symptom not in all_symptom_data\n",
        "    return np.array(matrix_sym).reshape(1,-1)"
      ],
      "metadata": {
        "id": "JMg7ZU7HITYi"
      },
      "execution_count": 12,
      "outputs": []
    },
    {
      "cell_type": "code",
      "source": [
        "def df_sym_onehot(dataset, all_symptom_data:list):\n",
        "    # symptoms to onehot\n",
        "    dataset['onehot_symtoms'] = dataset.Symptoms.apply(lambda x: onehot_sym(x, all_symptom_data))\n",
        "    return dataset"
      ],
      "metadata": {
        "id": "D_FVNAjUP1XR"
      },
      "execution_count": 13,
      "outputs": []
    },
    {
      "cell_type": "code",
      "source": [
        "def train_test(sym_train, sym_test):\n",
        "    X_train = np.concatenate((np.array(sym_train.onehot_symtoms)))\n",
        "    X_test = np.concatenate((np.array(sym_test.onehot_symtoms)))\n",
        "    y_train = np.array(sym_train.Disease)\n",
        "    y_test = np.array(sym_test.Disease)\n",
        "    return X_train, X_test, y_train, y_test"
      ],
      "metadata": {
        "id": "x74HsC-eNopr"
      },
      "execution_count": 14,
      "outputs": []
    },
    {
      "cell_type": "code",
      "source": [
        "def train_test(train, test):\n",
        "    # symptoms to list\n",
        "    train = df_symptoms_list(train)\n",
        "    test = df_symptoms_list(test)\n",
        "\n",
        "    # list all symptoms from train_dataset\n",
        "    all_symptom_data = all_symptom(train)\n",
        "\n",
        "    # symptoms to onehot\n",
        "    df_train_onehot = df_sym_onehot(train, all_symptom_data)\n",
        "    df_test_onehot = df_sym_onehot(test, all_symptom_data)\n",
        "\n",
        "    # convert data into suitable model format\n",
        "    X_train = np.concatenate((np.array(df_train_onehot.onehot_symtoms)))\n",
        "    X_test = np.concatenate((np.array(df_test_onehot.onehot_symtoms)))\n",
        "    y_train = np.array(df_train_onehot.Disease)\n",
        "    y_test = np.array(df_test_onehot.Disease)\n",
        "    return X_train, X_test, y_train, y_test, df_train_onehot, df_test_onehot"
      ],
      "metadata": {
        "id": "CIehqAlrayx4"
      },
      "execution_count": 15,
      "outputs": []
    },
    {
      "cell_type": "code",
      "source": [
        "train = pd.read_csv('train_dataset.csv')\n",
        "test = pd.read_csv('test_dataset.csv')\n",
        "train.head()"
      ],
      "metadata": {
        "colab": {
          "base_uri": "https://localhost:8080/",
          "height": 357
        },
        "id": "9AV89INAZbvO",
        "outputId": "836f37d0-d8dd-468d-e70c-8d092a7ac7e9"
      },
      "execution_count": 16,
      "outputs": [
        {
          "output_type": "execute_result",
          "data": {
            "text/plain": [
              "            Disease Symptom_1  Symptom_2             Symptom_3  \\\n",
              "0  Fungal infection   itching  skin rash  nodal skin eruptions   \n",
              "1  Fungal infection   itching  skin rash  nodal skin eruptions   \n",
              "2  Fungal infection   itching  skin rash  nodal skin eruptions   \n",
              "3  Fungal infection   itching  skin rash  nodal skin eruptions   \n",
              "4  Fungal infection   itching  skin rash  nodal skin eruptions   \n",
              "\n",
              "            Symptom_4 Symptom_5 Symptom_6 Symptom_7 Symptom_8 Symptom_9  \\\n",
              "0  dischromic patches       NaN       NaN       NaN       NaN       NaN   \n",
              "1  dischromic patches       NaN       NaN       NaN       NaN       NaN   \n",
              "2  dischromic patches       NaN       NaN       NaN       NaN       NaN   \n",
              "3                 NaN       NaN       NaN       NaN       NaN       NaN   \n",
              "4  dischromic patches       NaN       NaN       NaN       NaN       NaN   \n",
              "\n",
              "  Symptom_10 Symptom_11 Symptom_12 Symptom_13 Symptom_14 Symptom_15  \\\n",
              "0        NaN        NaN        NaN        NaN        NaN        NaN   \n",
              "1        NaN        NaN        NaN        NaN        NaN        NaN   \n",
              "2        NaN        NaN        NaN        NaN        NaN        NaN   \n",
              "3        NaN        NaN        NaN        NaN        NaN        NaN   \n",
              "4        NaN        NaN        NaN        NaN        NaN        NaN   \n",
              "\n",
              "  Symptom_16 Symptom_17  \n",
              "0        NaN        NaN  \n",
              "1        NaN        NaN  \n",
              "2        NaN        NaN  \n",
              "3        NaN        NaN  \n",
              "4        NaN        NaN  "
            ],
            "text/html": [
              "\n",
              "  <div id=\"df-e7709964-0274-445d-aba4-190557722662\">\n",
              "    <div class=\"colab-df-container\">\n",
              "      <div>\n",
              "<style scoped>\n",
              "    .dataframe tbody tr th:only-of-type {\n",
              "        vertical-align: middle;\n",
              "    }\n",
              "\n",
              "    .dataframe tbody tr th {\n",
              "        vertical-align: top;\n",
              "    }\n",
              "\n",
              "    .dataframe thead th {\n",
              "        text-align: right;\n",
              "    }\n",
              "</style>\n",
              "<table border=\"1\" class=\"dataframe\">\n",
              "  <thead>\n",
              "    <tr style=\"text-align: right;\">\n",
              "      <th></th>\n",
              "      <th>Disease</th>\n",
              "      <th>Symptom_1</th>\n",
              "      <th>Symptom_2</th>\n",
              "      <th>Symptom_3</th>\n",
              "      <th>Symptom_4</th>\n",
              "      <th>Symptom_5</th>\n",
              "      <th>Symptom_6</th>\n",
              "      <th>Symptom_7</th>\n",
              "      <th>Symptom_8</th>\n",
              "      <th>Symptom_9</th>\n",
              "      <th>Symptom_10</th>\n",
              "      <th>Symptom_11</th>\n",
              "      <th>Symptom_12</th>\n",
              "      <th>Symptom_13</th>\n",
              "      <th>Symptom_14</th>\n",
              "      <th>Symptom_15</th>\n",
              "      <th>Symptom_16</th>\n",
              "      <th>Symptom_17</th>\n",
              "    </tr>\n",
              "  </thead>\n",
              "  <tbody>\n",
              "    <tr>\n",
              "      <th>0</th>\n",
              "      <td>Fungal infection</td>\n",
              "      <td>itching</td>\n",
              "      <td>skin rash</td>\n",
              "      <td>nodal skin eruptions</td>\n",
              "      <td>dischromic patches</td>\n",
              "      <td>NaN</td>\n",
              "      <td>NaN</td>\n",
              "      <td>NaN</td>\n",
              "      <td>NaN</td>\n",
              "      <td>NaN</td>\n",
              "      <td>NaN</td>\n",
              "      <td>NaN</td>\n",
              "      <td>NaN</td>\n",
              "      <td>NaN</td>\n",
              "      <td>NaN</td>\n",
              "      <td>NaN</td>\n",
              "      <td>NaN</td>\n",
              "      <td>NaN</td>\n",
              "    </tr>\n",
              "    <tr>\n",
              "      <th>1</th>\n",
              "      <td>Fungal infection</td>\n",
              "      <td>itching</td>\n",
              "      <td>skin rash</td>\n",
              "      <td>nodal skin eruptions</td>\n",
              "      <td>dischromic patches</td>\n",
              "      <td>NaN</td>\n",
              "      <td>NaN</td>\n",
              "      <td>NaN</td>\n",
              "      <td>NaN</td>\n",
              "      <td>NaN</td>\n",
              "      <td>NaN</td>\n",
              "      <td>NaN</td>\n",
              "      <td>NaN</td>\n",
              "      <td>NaN</td>\n",
              "      <td>NaN</td>\n",
              "      <td>NaN</td>\n",
              "      <td>NaN</td>\n",
              "      <td>NaN</td>\n",
              "    </tr>\n",
              "    <tr>\n",
              "      <th>2</th>\n",
              "      <td>Fungal infection</td>\n",
              "      <td>itching</td>\n",
              "      <td>skin rash</td>\n",
              "      <td>nodal skin eruptions</td>\n",
              "      <td>dischromic patches</td>\n",
              "      <td>NaN</td>\n",
              "      <td>NaN</td>\n",
              "      <td>NaN</td>\n",
              "      <td>NaN</td>\n",
              "      <td>NaN</td>\n",
              "      <td>NaN</td>\n",
              "      <td>NaN</td>\n",
              "      <td>NaN</td>\n",
              "      <td>NaN</td>\n",
              "      <td>NaN</td>\n",
              "      <td>NaN</td>\n",
              "      <td>NaN</td>\n",
              "      <td>NaN</td>\n",
              "    </tr>\n",
              "    <tr>\n",
              "      <th>3</th>\n",
              "      <td>Fungal infection</td>\n",
              "      <td>itching</td>\n",
              "      <td>skin rash</td>\n",
              "      <td>nodal skin eruptions</td>\n",
              "      <td>NaN</td>\n",
              "      <td>NaN</td>\n",
              "      <td>NaN</td>\n",
              "      <td>NaN</td>\n",
              "      <td>NaN</td>\n",
              "      <td>NaN</td>\n",
              "      <td>NaN</td>\n",
              "      <td>NaN</td>\n",
              "      <td>NaN</td>\n",
              "      <td>NaN</td>\n",
              "      <td>NaN</td>\n",
              "      <td>NaN</td>\n",
              "      <td>NaN</td>\n",
              "      <td>NaN</td>\n",
              "    </tr>\n",
              "    <tr>\n",
              "      <th>4</th>\n",
              "      <td>Fungal infection</td>\n",
              "      <td>itching</td>\n",
              "      <td>skin rash</td>\n",
              "      <td>nodal skin eruptions</td>\n",
              "      <td>dischromic patches</td>\n",
              "      <td>NaN</td>\n",
              "      <td>NaN</td>\n",
              "      <td>NaN</td>\n",
              "      <td>NaN</td>\n",
              "      <td>NaN</td>\n",
              "      <td>NaN</td>\n",
              "      <td>NaN</td>\n",
              "      <td>NaN</td>\n",
              "      <td>NaN</td>\n",
              "      <td>NaN</td>\n",
              "      <td>NaN</td>\n",
              "      <td>NaN</td>\n",
              "      <td>NaN</td>\n",
              "    </tr>\n",
              "  </tbody>\n",
              "</table>\n",
              "</div>\n",
              "      <button class=\"colab-df-convert\" onclick=\"convertToInteractive('df-e7709964-0274-445d-aba4-190557722662')\"\n",
              "              title=\"Convert this dataframe to an interactive table.\"\n",
              "              style=\"display:none;\">\n",
              "        \n",
              "  <svg xmlns=\"http://www.w3.org/2000/svg\" height=\"24px\"viewBox=\"0 0 24 24\"\n",
              "       width=\"24px\">\n",
              "    <path d=\"M0 0h24v24H0V0z\" fill=\"none\"/>\n",
              "    <path d=\"M18.56 5.44l.94 2.06.94-2.06 2.06-.94-2.06-.94-.94-2.06-.94 2.06-2.06.94zm-11 1L8.5 8.5l.94-2.06 2.06-.94-2.06-.94L8.5 2.5l-.94 2.06-2.06.94zm10 10l.94 2.06.94-2.06 2.06-.94-2.06-.94-.94-2.06-.94 2.06-2.06.94z\"/><path d=\"M17.41 7.96l-1.37-1.37c-.4-.4-.92-.59-1.43-.59-.52 0-1.04.2-1.43.59L10.3 9.45l-7.72 7.72c-.78.78-.78 2.05 0 2.83L4 21.41c.39.39.9.59 1.41.59.51 0 1.02-.2 1.41-.59l7.78-7.78 2.81-2.81c.8-.78.8-2.07 0-2.86zM5.41 20L4 18.59l7.72-7.72 1.47 1.35L5.41 20z\"/>\n",
              "  </svg>\n",
              "      </button>\n",
              "      \n",
              "  <style>\n",
              "    .colab-df-container {\n",
              "      display:flex;\n",
              "      flex-wrap:wrap;\n",
              "      gap: 12px;\n",
              "    }\n",
              "\n",
              "    .colab-df-convert {\n",
              "      background-color: #E8F0FE;\n",
              "      border: none;\n",
              "      border-radius: 50%;\n",
              "      cursor: pointer;\n",
              "      display: none;\n",
              "      fill: #1967D2;\n",
              "      height: 32px;\n",
              "      padding: 0 0 0 0;\n",
              "      width: 32px;\n",
              "    }\n",
              "\n",
              "    .colab-df-convert:hover {\n",
              "      background-color: #E2EBFA;\n",
              "      box-shadow: 0px 1px 2px rgba(60, 64, 67, 0.3), 0px 1px 3px 1px rgba(60, 64, 67, 0.15);\n",
              "      fill: #174EA6;\n",
              "    }\n",
              "\n",
              "    [theme=dark] .colab-df-convert {\n",
              "      background-color: #3B4455;\n",
              "      fill: #D2E3FC;\n",
              "    }\n",
              "\n",
              "    [theme=dark] .colab-df-convert:hover {\n",
              "      background-color: #434B5C;\n",
              "      box-shadow: 0px 1px 3px 1px rgba(0, 0, 0, 0.15);\n",
              "      filter: drop-shadow(0px 1px 2px rgba(0, 0, 0, 0.3));\n",
              "      fill: #FFFFFF;\n",
              "    }\n",
              "  </style>\n",
              "\n",
              "      <script>\n",
              "        const buttonEl =\n",
              "          document.querySelector('#df-e7709964-0274-445d-aba4-190557722662 button.colab-df-convert');\n",
              "        buttonEl.style.display =\n",
              "          google.colab.kernel.accessAllowed ? 'block' : 'none';\n",
              "\n",
              "        async function convertToInteractive(key) {\n",
              "          const element = document.querySelector('#df-e7709964-0274-445d-aba4-190557722662');\n",
              "          const dataTable =\n",
              "            await google.colab.kernel.invokeFunction('convertToInteractive',\n",
              "                                                     [key], {});\n",
              "          if (!dataTable) return;\n",
              "\n",
              "          const docLinkHtml = 'Like what you see? Visit the ' +\n",
              "            '<a target=\"_blank\" href=https://colab.research.google.com/notebooks/data_table.ipynb>data table notebook</a>'\n",
              "            + ' to learn more about interactive tables.';\n",
              "          element.innerHTML = '';\n",
              "          dataTable['output_type'] = 'display_data';\n",
              "          await google.colab.output.renderOutput(dataTable, element);\n",
              "          const docLink = document.createElement('div');\n",
              "          docLink.innerHTML = docLinkHtml;\n",
              "          element.appendChild(docLink);\n",
              "        }\n",
              "      </script>\n",
              "    </div>\n",
              "  </div>\n",
              "  "
            ]
          },
          "metadata": {},
          "execution_count": 16
        }
      ]
    },
    {
      "cell_type": "code",
      "source": [
        "X_train, X_test, y_train, y_test, df_train, df_test= train_test(train, test)\n",
        "print(X_train.shape, X_test.shape, y_train.shape, y_test.shape)\n",
        "df_train.head()"
      ],
      "metadata": {
        "id": "-1qAMQm6dOYV",
        "colab": {
          "base_uri": "https://localhost:8080/",
          "height": 224
        },
        "outputId": "89ae9435-daa1-4b07-e4bb-b1eac2b978ed"
      },
      "execution_count": 17,
      "outputs": [
        {
          "output_type": "stream",
          "name": "stdout",
          "text": [
            "(3936, 131) (984, 131) (3936,) (984,)\n"
          ]
        },
        {
          "output_type": "execute_result",
          "data": {
            "text/plain": [
              "            Disease                                           Symptoms  \\\n",
              "0  Fungal infection  [itching, skin rash, nodal skin eruptions, dis...   \n",
              "1  Fungal infection  [itching, skin rash, nodal skin eruptions, dis...   \n",
              "2  Fungal infection  [itching, skin rash, nodal skin eruptions, dis...   \n",
              "3  Fungal infection         [itching, skin rash, nodal skin eruptions]   \n",
              "4  Fungal infection  [itching, skin rash, nodal skin eruptions, dis...   \n",
              "\n",
              "                                      onehot_symtoms  \n",
              "0  [[1, 1, 1, 1, 0, 0, 0, 0, 0, 0, 0, 0, 0, 0, 0,...  \n",
              "1  [[1, 1, 1, 1, 0, 0, 0, 0, 0, 0, 0, 0, 0, 0, 0,...  \n",
              "2  [[1, 1, 1, 1, 0, 0, 0, 0, 0, 0, 0, 0, 0, 0, 0,...  \n",
              "3  [[1, 1, 1, 0, 0, 0, 0, 0, 0, 0, 0, 0, 0, 0, 0,...  \n",
              "4  [[1, 1, 1, 1, 0, 0, 0, 0, 0, 0, 0, 0, 0, 0, 0,...  "
            ],
            "text/html": [
              "\n",
              "  <div id=\"df-b543fbc5-986e-4b22-801e-cc478f1955b7\">\n",
              "    <div class=\"colab-df-container\">\n",
              "      <div>\n",
              "<style scoped>\n",
              "    .dataframe tbody tr th:only-of-type {\n",
              "        vertical-align: middle;\n",
              "    }\n",
              "\n",
              "    .dataframe tbody tr th {\n",
              "        vertical-align: top;\n",
              "    }\n",
              "\n",
              "    .dataframe thead th {\n",
              "        text-align: right;\n",
              "    }\n",
              "</style>\n",
              "<table border=\"1\" class=\"dataframe\">\n",
              "  <thead>\n",
              "    <tr style=\"text-align: right;\">\n",
              "      <th></th>\n",
              "      <th>Disease</th>\n",
              "      <th>Symptoms</th>\n",
              "      <th>onehot_symtoms</th>\n",
              "    </tr>\n",
              "  </thead>\n",
              "  <tbody>\n",
              "    <tr>\n",
              "      <th>0</th>\n",
              "      <td>Fungal infection</td>\n",
              "      <td>[itching, skin rash, nodal skin eruptions, dis...</td>\n",
              "      <td>[[1, 1, 1, 1, 0, 0, 0, 0, 0, 0, 0, 0, 0, 0, 0,...</td>\n",
              "    </tr>\n",
              "    <tr>\n",
              "      <th>1</th>\n",
              "      <td>Fungal infection</td>\n",
              "      <td>[itching, skin rash, nodal skin eruptions, dis...</td>\n",
              "      <td>[[1, 1, 1, 1, 0, 0, 0, 0, 0, 0, 0, 0, 0, 0, 0,...</td>\n",
              "    </tr>\n",
              "    <tr>\n",
              "      <th>2</th>\n",
              "      <td>Fungal infection</td>\n",
              "      <td>[itching, skin rash, nodal skin eruptions, dis...</td>\n",
              "      <td>[[1, 1, 1, 1, 0, 0, 0, 0, 0, 0, 0, 0, 0, 0, 0,...</td>\n",
              "    </tr>\n",
              "    <tr>\n",
              "      <th>3</th>\n",
              "      <td>Fungal infection</td>\n",
              "      <td>[itching, skin rash, nodal skin eruptions]</td>\n",
              "      <td>[[1, 1, 1, 0, 0, 0, 0, 0, 0, 0, 0, 0, 0, 0, 0,...</td>\n",
              "    </tr>\n",
              "    <tr>\n",
              "      <th>4</th>\n",
              "      <td>Fungal infection</td>\n",
              "      <td>[itching, skin rash, nodal skin eruptions, dis...</td>\n",
              "      <td>[[1, 1, 1, 1, 0, 0, 0, 0, 0, 0, 0, 0, 0, 0, 0,...</td>\n",
              "    </tr>\n",
              "  </tbody>\n",
              "</table>\n",
              "</div>\n",
              "      <button class=\"colab-df-convert\" onclick=\"convertToInteractive('df-b543fbc5-986e-4b22-801e-cc478f1955b7')\"\n",
              "              title=\"Convert this dataframe to an interactive table.\"\n",
              "              style=\"display:none;\">\n",
              "        \n",
              "  <svg xmlns=\"http://www.w3.org/2000/svg\" height=\"24px\"viewBox=\"0 0 24 24\"\n",
              "       width=\"24px\">\n",
              "    <path d=\"M0 0h24v24H0V0z\" fill=\"none\"/>\n",
              "    <path d=\"M18.56 5.44l.94 2.06.94-2.06 2.06-.94-2.06-.94-.94-2.06-.94 2.06-2.06.94zm-11 1L8.5 8.5l.94-2.06 2.06-.94-2.06-.94L8.5 2.5l-.94 2.06-2.06.94zm10 10l.94 2.06.94-2.06 2.06-.94-2.06-.94-.94-2.06-.94 2.06-2.06.94z\"/><path d=\"M17.41 7.96l-1.37-1.37c-.4-.4-.92-.59-1.43-.59-.52 0-1.04.2-1.43.59L10.3 9.45l-7.72 7.72c-.78.78-.78 2.05 0 2.83L4 21.41c.39.39.9.59 1.41.59.51 0 1.02-.2 1.41-.59l7.78-7.78 2.81-2.81c.8-.78.8-2.07 0-2.86zM5.41 20L4 18.59l7.72-7.72 1.47 1.35L5.41 20z\"/>\n",
              "  </svg>\n",
              "      </button>\n",
              "      \n",
              "  <style>\n",
              "    .colab-df-container {\n",
              "      display:flex;\n",
              "      flex-wrap:wrap;\n",
              "      gap: 12px;\n",
              "    }\n",
              "\n",
              "    .colab-df-convert {\n",
              "      background-color: #E8F0FE;\n",
              "      border: none;\n",
              "      border-radius: 50%;\n",
              "      cursor: pointer;\n",
              "      display: none;\n",
              "      fill: #1967D2;\n",
              "      height: 32px;\n",
              "      padding: 0 0 0 0;\n",
              "      width: 32px;\n",
              "    }\n",
              "\n",
              "    .colab-df-convert:hover {\n",
              "      background-color: #E2EBFA;\n",
              "      box-shadow: 0px 1px 2px rgba(60, 64, 67, 0.3), 0px 1px 3px 1px rgba(60, 64, 67, 0.15);\n",
              "      fill: #174EA6;\n",
              "    }\n",
              "\n",
              "    [theme=dark] .colab-df-convert {\n",
              "      background-color: #3B4455;\n",
              "      fill: #D2E3FC;\n",
              "    }\n",
              "\n",
              "    [theme=dark] .colab-df-convert:hover {\n",
              "      background-color: #434B5C;\n",
              "      box-shadow: 0px 1px 3px 1px rgba(0, 0, 0, 0.15);\n",
              "      filter: drop-shadow(0px 1px 2px rgba(0, 0, 0, 0.3));\n",
              "      fill: #FFFFFF;\n",
              "    }\n",
              "  </style>\n",
              "\n",
              "      <script>\n",
              "        const buttonEl =\n",
              "          document.querySelector('#df-b543fbc5-986e-4b22-801e-cc478f1955b7 button.colab-df-convert');\n",
              "        buttonEl.style.display =\n",
              "          google.colab.kernel.accessAllowed ? 'block' : 'none';\n",
              "\n",
              "        async function convertToInteractive(key) {\n",
              "          const element = document.querySelector('#df-b543fbc5-986e-4b22-801e-cc478f1955b7');\n",
              "          const dataTable =\n",
              "            await google.colab.kernel.invokeFunction('convertToInteractive',\n",
              "                                                     [key], {});\n",
              "          if (!dataTable) return;\n",
              "\n",
              "          const docLinkHtml = 'Like what you see? Visit the ' +\n",
              "            '<a target=\"_blank\" href=https://colab.research.google.com/notebooks/data_table.ipynb>data table notebook</a>'\n",
              "            + ' to learn more about interactive tables.';\n",
              "          element.innerHTML = '';\n",
              "          dataTable['output_type'] = 'display_data';\n",
              "          await google.colab.output.renderOutput(dataTable, element);\n",
              "          const docLink = document.createElement('div');\n",
              "          docLink.innerHTML = docLinkHtml;\n",
              "          element.appendChild(docLink);\n",
              "        }\n",
              "      </script>\n",
              "    </div>\n",
              "  </div>\n",
              "  "
            ]
          },
          "metadata": {},
          "execution_count": 17
        }
      ]
    },
    {
      "cell_type": "markdown",
      "source": [
        "# Model"
      ],
      "metadata": {
        "id": "ImoNTxNxa4ty"
      }
    },
    {
      "cell_type": "code",
      "source": [
        ""
      ],
      "metadata": {
        "id": "nV-GENU0a7H5"
      },
      "execution_count": 18,
      "outputs": []
    }
  ]
}